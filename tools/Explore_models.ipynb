{
 "cells": [
  {
   "cell_type": "markdown",
   "metadata": {},
   "source": [
    "# Explore models\n",
    "\n",
    "This notebook displays the characteristics *hwhm*, *eisf* and *qisf* of a selected model of the QENS library.\n",
    "\n",
    "<a id='Table of Contents'></a><h3>Table of Contents</h3>\n",
    "- <a href='#imports'>Load packages</a>  \n",
    "- <a href='#choice_model'>Choice of model</a>  \n",
    "- <a href='#display_model'>Plot characteristics of selected model</a>\n",
    "\n",
    "\n",
    "<div class=\"alert alert-block alert-danger\">\n",
    "Only Python 3 is supported.\n",
    "</div>"
   ]
  },
  {
   "cell_type": "markdown",
   "metadata": {},
   "source": [
    "(<a href='#Table of Contents'>Top</a>)<a id='imports'></a><h2>Load packages</h2>"
   ]
  },
  {
   "cell_type": "code",
   "execution_count": 2,
   "metadata": {},
   "outputs": [],
   "source": [
    "from __future__ import print_function\n",
    "\n",
    "import sys\n",
    "import numpy as np\n",
    "import matplotlib.pyplot as plt\n",
    "\n",
    "import QENSmodels\n",
    "\n",
    "# for interactive plot\n",
    "import ipywidgets"
   ]
  },
  {
   "cell_type": "markdown",
   "metadata": {},
   "source": [
    "#### Define vector of Q values"
   ]
  },
  {
   "cell_type": "code",
   "execution_count": 3,
   "metadata": {},
   "outputs": [],
   "source": [
    "q = np.arange(0.0, 10, 0.1)"
   ]
  },
  {
   "cell_type": "markdown",
   "metadata": {},
   "source": [
    "(<a href='#Table of Contents'>Top</a>)<a id='choice_model'></a><h2>Choice of model</h2>"
   ]
  },
  {
   "cell_type": "code",
   "execution_count": 4,
   "metadata": {},
   "outputs": [
    {
     "data": {
      "application/vnd.jupyter.widget-view+json": {
       "model_id": "a802550a869d4ff5bdb7794b48b72674",
       "version_major": 2,
       "version_minor": 0
      },
      "text/plain": [
       "RadioButtons(description='Model:', options=('BrownianTranslationalDiffusion', 'JumpTranslationalDiffusion', 'I…"
      ]
     },
     "metadata": {},
     "output_type": "display_data"
    }
   ],
   "source": [
    "# Choose model to use\n",
    "model = ipywidgets.RadioButtons(\n",
    "    options=['BrownianTranslationalDiffusion', 'JumpTranslationalDiffusion', 'IsotropicRotationalDiffusion'],\n",
    "    description='Model:',\n",
    "    disabled=False\n",
    ")\n",
    "\n",
    "display(model)"
   ]
  },
  {
   "cell_type": "markdown",
   "metadata": {},
   "source": [
    "(<a href='#Table of Contents'>Top</a>)<a id='display_model'></a><h2>Plot characteristics of selected model</h2>\n",
    "\n",
    "Depending on the selected model, different inputs will be requested."
   ]
  },
  {
   "cell_type": "code",
   "execution_count": 5,
   "metadata": {},
   "outputs": [
    {
     "name": "stdout",
     "output_type": "stream",
     "text": [
      "Brownian Translational Diffusion model:\n",
      "Value of self-diffusion coefficient (in A^2*meV)? 1\n"
     ]
    },
    {
     "data": {
      "image/png": "[encoded data removed]",
      "text/plain": [
       "<Figure size 432x288 with 3 Axes>"
      ]
     },
     "metadata": {
      "needs_background": "light"
     },
     "output_type": "display_data"
    }
   ],
   "source": [
    "if model.value == 'BrownianTranslationalDiffusion':\n",
    "    print (\"Brownian Translational Diffusion model:\")\n",
    "    D = float(input(\"Value of self-diffusion coefficient (in A^2*meV)? \"))\n",
    "    hwhm, eisf, qisf = QENSmodels.hwhmBrownianTranslationalDiffusion(q, D)\n",
    "\n",
    "elif model.value == 'JumpTranslationalDiffusion':\n",
    "    print (\"Jump Translational Diffusion model:\")\n",
    "    D = float(input(\"Value of self-diffusion coefficient (in A^2*meV)? \"))\n",
    "    resTime = float(input(\"Residence time between jumps (in meV^-1)? \"))\n",
    "    hwhm, eisf, qisf = QENSmodels.hwhmJumpTranslationalDiffusion(q, D, resTime)\n",
    "\n",
    "elif model.value == 'IsotropicRotationalDiffusion':\n",
    "    print (\"Isotropic Rotational Diffusion model:\")\n",
    "    R = float(input(\"Radius of sphere? \"))\n",
    "    DR = float(input(\"Value of rotational diffusion coefficient (in meV)? \"))\n",
    "    hwhm, eisf, qisf = QENSmodels.hwhmIsotropicRotationalDiffusion(q, R, DR)\n",
    "\n",
    "fig = plt.figure(1)\n",
    "\n",
    "ax1 = fig.add_subplot(131)\n",
    "ax1.plot(q, eisf, 'ro', linestyle='--')\n",
    "ax1.grid(True)\n",
    "ax1.set_xlim((0,10))\n",
    "ax1.set_ylim((0,1.1))\n",
    "ax1.set_xlabel('Q/AA-1')\n",
    "ax1.set_ylabel('EISF(Q)')\n",
    "ax1.set_title('Elastic component')\n",
    "\n",
    "ax2 = fig.add_subplot(132)\n",
    "ax2.plot(q, hwhm, linestyle='-', marker='o')\n",
    "ax2.grid(True)\n",
    "ax2.set_xlim((0,10))\n",
    "ax2.set_xlabel('Q/AA-1')\n",
    "ax2.set_ylabel('HWHM(Q)')\n",
    "ax2.set_title('Widths')\n",
    "\n",
    "ax3 = fig.add_subplot(133)\n",
    "ax3.plot(q, qisf, linestyle='-')\n",
    "ax3.grid(True)\n",
    "ax3.set_xlim((0,10))\n",
    "ax3.set_ylim((0,1.1))\n",
    "ax3.set_xlabel('Q/AA-1')\n",
    "ax3.set_ylabel('QISF(Q)')\n",
    "ax3.set_title('Quasi components')\n",
    "\n",
    "plt.tight_layout()\n",
    "\n",
    "plt.show()   "
   ]
  },
  {
   "cell_type": "code",
   "execution_count": null,
   "metadata": {},
   "outputs": [],
   "source": []
  }
 ],
 "metadata": {
  "kernelspec": {
   "display_name": "Python 3",
   "language": "python",
   "name": "python3"
  },
  "language_info": {
   "codemirror_mode": {
    "name": "ipython",
    "version": 3
   },
   "file_extension": ".py",
   "mimetype": "text/x-python",
   "name": "python",
   "nbconvert_exporter": "python",
   "pygments_lexer": "ipython3",
   "version": "3.7.2"
  }
 },
 "nbformat": 4,
 "nbformat_minor": 2
}
