{
 "cells": [
  {
   "cell_type": "markdown",
   "metadata": {},
   "source": [
    "# Test models\n",
    "\n",
    "This notebook displays $S(q, \\omega)$ in linear and log scale for a selected model from the QENS library. \n",
    "\n",
    "This model can be convoluted with a Gaussian instrument profile. \n",
    "\n",
    "<a id='Table of Contents'></a><h3>Table of Contents</h3>\n",
    "- <a href='#imports'>Load packages</a>  \n",
    "- <a href='#general_settings'>Common settings</a>  \n",
    "- <a href='#choice_model'>Choice of model</a>  \n",
    "- <a href='#display_model'>Plot</a>\n",
    "\n",
    "\n",
    "<div class=\"alert alert-block alert-danger\">\n",
    "Only Python 3 is supported.\n",
    "</div>"
   ]
  },
  {
   "cell_type": "markdown",
   "metadata": {},
   "source": [
    "(<a href='#Table of Contents'>Top</a>)<a id='imports'></a><h2>Load packages</h2>"
   ]
  },
  {
   "cell_type": "code",
   "execution_count": null,
   "metadata": {},
   "outputs": [],
   "source": [
    "from __future__ import print_function\n",
    "\n",
    "import sys\n",
    "import numpy as np\n",
    "import matplotlib.pyplot as plt\n",
    "\n",
    "import QENSmodels\n",
    "\n",
    "# for interactive plot\n",
    "\n",
    "from IPython.display import Javascript, display\n",
    "\n",
    "import panel\n",
    "panel.extension()\n",
    "import panel.widgets as pnw"
   ]
  },
  {
   "cell_type": "markdown",
   "metadata": {},
   "source": [
    "(<a href='#Table of Contents'>Top</a>)<a id='general_settings'></a><h2>Common settings</h2>"
   ]
  },
  {
   "cell_type": "code",
   "execution_count": null,
   "metadata": {},
   "outputs": [],
   "source": [
    "# Vector of Q and omega values\n",
    "q = np.arange(0.25, 2.1, 0.25)\n",
    "omega = np.arange(-2, 2.01, 0.01)\n",
    "\n",
    "# Parameters\n",
    "scale = 1.0\n",
    "center = 0.0\n",
    "background = 0.0"
   ]
  },
  {
   "cell_type": "markdown",
   "metadata": {},
   "source": [
    "(<a href='#Table of Contents'>Top</a>)<a id='choice_model'></a><h2>Choice of model</h2>"
   ]
  },
  {
   "cell_type": "code",
   "execution_count": null,
   "metadata": {},
   "outputs": [],
   "source": [
    "options_list=['BrownianTranslationalDiffusion', \n",
    "             'JumpTranslationalDiffusion', \n",
    "             'IsotropicRotationalDiffusion',\n",
    "             'WaterTeixeira']\n",
    "\n",
    "model = pnw.ToggleGroup(options=options_list, widget_type='box',behavior='radio')\n",
    "\n",
    "widgets_models = panel.Row(\"#### Models:\", model)\n",
    "\n",
    "checkbox_res = pnw.Checkbox(name='Use Gaussian resolution', height=15, value=False)\n",
    "\n",
    "checkbox_backgd = pnw.Checkbox(name='Use flat background', height=15, value=False)\n",
    "\n",
    "options_model = pnw.Column(widgets_models, checkbox_res, checkbox_backgd)\n",
    "\n",
    "options_model"
   ]
  },
  {
   "cell_type": "code",
   "execution_count": null,
   "metadata": {},
   "outputs": [],
   "source": [
    "if checkbox_res.value is True:\n",
    "    sig = pnw.TextInput(\n",
    "        placeholder='Sigma of Gaussian resolution',\n",
    "        width=250,\n",
    "        name='Sigma:')\n",
    "    display(sig)\n",
    "else:\n",
    "    display(Javascript('IPython.notebook.execute_cell_range(IPython.notebook.get_selected_index()+1, IPython.notebook.get_selected_index()+2)'))"
   ]
  },
  {
   "cell_type": "code",
   "execution_count": null,
   "metadata": {},
   "outputs": [],
   "source": [
    "if checkbox_backgd.value is True:\n",
    "    backgd = pnw.TextInput(\n",
    "        placeholder='Value of flat background',\n",
    "        width=250,\n",
    "        name='Flat background:')\n",
    "    display(backgd)\n",
    "else:\n",
    "    display(Javascript('IPython.notebook.execute_cell_range(IPython.notebook.get_selected_index()+1, IPython.notebook.get_selected_index()+2)'))"
   ]
  },
  {
   "cell_type": "markdown",
   "metadata": {},
   "source": [
    "(<a href='#Table of Contents'>Top</a>)<a id='display_model'></a><h2>Plot</h2>"
   ]
  },
  {
   "cell_type": "code",
   "execution_count": null,
   "metadata": {},
   "outputs": [],
   "source": [
    "# Resolution    \n",
    "if checkbox_res.value is True:\n",
    "    sigma = float(sig.value)\n",
    "    resol = np.exp(-omega**2/(2*sigma**2)) / (sigma*np.sqrt(2*np.pi))\n",
    "else:\n",
    "    resol = None\n",
    "\n",
    "if model.value == 'BrownianTranslationalDiffusion':\n",
    "    D = float(input(\"Value of self-diffusion coefficient (in A^2*meV)? \"))\n",
    "    model_sqw = QENSmodels.sqwBrownianTranslationalDiffusion(omega, q, scale, center, D)\n",
    "    \n",
    "elif model.value == 'JumpTranslationalDiffusion':\n",
    "    D = float(input(\"Value of self-diffusion coefficient (in A^2*meV)? \"))\n",
    "    resTime = float(input(\"Residence time between jumps (in meV^-1)? \"))\n",
    "    model_sqw = QENSmodels.sqwJumpTranslationalDiffusion(omega, q, scale, center,\n",
    "           D, resTime)\n",
    "           \n",
    "elif model.value == 'IsotropicRotationalDiffusion':\n",
    "    R = float(input(\"Radius of sphere (in A)? \"))\n",
    "    DR = float(input(\"Value of rotational diffusion coefficient (in meV)? \"))\n",
    "    model_sqw = QENSmodels.sqwIsotropicRotationalDiffusion(omega, q, scale, center,\n",
    "           R, DR) \n",
    "\n",
    "elif model.value == 'WaterTeixeira':\n",
    "    D = float(input(\"Value of self-diffusion coefficient (in A^2*meV)? \"))\n",
    "    resTime = float(input(\"Residence time between jumps (in meV^-1)? \"))\n",
    "    R = float(input(\"Radius of sphere (in A)? \"))\n",
    "    DR = float(input(\"Value of rotational diffusion coefficient (in meV)? \"))\n",
    "    model_sqw = QENSmodels.sqwWaterTeixeira(omega, q, scale, center,\n",
    "           D, resTime, R, DR)\n",
    "    \n",
    "if resol is not None:\n",
    "    sqw = np.asarray([np.convolve(model_sqw[i,:], resol/resol.sum(), mode='same') for i in range(len(q))])\n",
    "else:\n",
    "    sqw = model_sqw\n",
    "    \n",
    "# Background\n",
    "if checkbox_backgd.value is True:\n",
    "    sqw += float(backgd.value)\n",
    "\n",
    "    \n",
    "# Plot\n",
    "fig = plt.figure(1)\n",
    "\n",
    "\n",
    "ax1 = fig.add_subplot(121)\n",
    "for i in range(q.size):\n",
    "    integral = np.trapz(sqw[i,:], omega)\n",
    "    print (\"Integral S(Q=\",q[i],\",w) = \", integral)\n",
    "    ax1.plot(omega, sqw[i,:], label=str(q[i]))\n",
    "ax1.grid(True)\n",
    "ax1.set_xlabel('Omega')\n",
    "ax1.set_ylabel('S(Q,w)')\n",
    "ax1.set_yscale('log')\n",
    "\n",
    "ax2 = fig.add_subplot(122)\n",
    "for i in range(q.size):\n",
    "    ax2.plot(omega, sqw[i,:], label=str(q[i]))\n",
    "ax2.grid(True)\n",
    "ax2.set_xlabel('Omega')\n",
    "ax2.set_ylabel('S(Q,w)')\n",
    "\n",
    "\n",
    "plt.tight_layout()\n",
    "plt.suptitle('S(Q, w) log and linear scales for {model}'.format(model=model.value),x=0.55,y=1.025)\n",
    "plt.legend(bbox_to_anchor=(1.05, 1), loc=2, borderaxespad=0.)\n",
    "plt.show()   "
   ]
  },
  {
   "cell_type": "code",
   "execution_count": null,
   "metadata": {},
   "outputs": [],
   "source": []
  }
 ],
 "metadata": {
  "kernelspec": {
   "display_name": "Python 3",
   "language": "python",
   "name": "python3"
  },
  "language_info": {
   "codemirror_mode": {
    "name": "ipython",
    "version": 3
   },
   "file_extension": ".py",
   "mimetype": "text/x-python",
   "name": "python",
   "nbconvert_exporter": "python",
   "pygments_lexer": "ipython3",
   "version": "3.7.2"
  },
  "toc": {
   "base_numbering": 1,
   "nav_menu": {},
   "number_sections": true,
   "sideBar": true,
   "skip_h1_title": false,
   "title_cell": "Table of Contents",
   "title_sidebar": "Contents",
   "toc_cell": false,
   "toc_position": {},
   "toc_section_display": true,
   "toc_window_display": false
  },
  "varInspector": {
   "cols": {
    "lenName": 16,
    "lenType": 16,
    "lenVar": 40
   },
   "kernels_config": {
    "python": {
     "delete_cmd_postfix": "",
     "delete_cmd_prefix": "del ",
     "library": "var_list.py",
     "varRefreshCmd": "print(var_dic_list())"
    },
    "r": {
     "delete_cmd_postfix": ") ",
     "delete_cmd_prefix": "rm(",
     "library": "var_list.r",
     "varRefreshCmd": "cat(var_dic_list()) "
    }
   },
   "types_to_exclude": [
    "module",
    "function",
    "builtin_function_or_method",
    "instance",
    "_Feature"
   ],
   "window_display": false
  }
 },
 "nbformat": 4,
 "nbformat_minor": 2
}
