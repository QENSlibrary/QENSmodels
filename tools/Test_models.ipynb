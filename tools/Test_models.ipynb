{
 "cells": [
  {
   "cell_type": "markdown",
   "metadata": {},
   "source": [
    "# Test models\n",
    "\n",
    "This notebook displays $S(q, \\omega)$ in linear and log scale for a selected model from the QENS library. \n",
    "\n",
    "This model can be convoluted with a Gaussian instrument profile. \n",
    "\n",
    "<a id='Table of Contents'></a><h3>Table of Contents</h3>\n",
    "- <a href='#imports'>Load packages</a>  \n",
    "- <a href='#general_settings'>Common settings</a>  \n",
    "- <a href='#choice_model'>Choice of model</a>  \n",
    "- <a href='#display_model'>Plot</a>"
   ]
  },
  {
   "cell_type": "markdown",
   "metadata": {},
   "source": [
    "(<a href='#Table of Contents'>Top</a>)<a id='imports'></a><h2>Load packages</h2>"
   ]
  },
  {
   "cell_type": "code",
   "execution_count": 20,
   "metadata": {},
   "outputs": [],
   "source": [
    "from __future__ import print_function\n",
    "\n",
    "import sys\n",
    "import numpy as np\n",
    "import matplotlib.pyplot as plt\n",
    "\n",
    "import QENSmodels\n",
    "\n",
    "# for interactive plot\n",
    "\n",
    "from IPython.display import Javascript, display\n",
    "\n",
    "import ipywidgets"
   ]
  },
  {
   "cell_type": "markdown",
   "metadata": {},
   "source": [
    "(<a href='#Table of Contents'>Top</a>)<a id='general_settings'></a><h2>Common settings</h2>"
   ]
  },
  {
   "cell_type": "code",
   "execution_count": 21,
   "metadata": {},
   "outputs": [],
   "source": [
    "# Vector of Q and omega values\n",
    "q = np.arange(0.25, 2.1, 0.25)\n",
    "omega = np.arange(-2, 2.01, 0.01)\n",
    "\n",
    "# Parameters\n",
    "scale = 1.0\n",
    "center = 0.0\n",
    "background = 0.0"
   ]
  },
  {
   "cell_type": "markdown",
   "metadata": {},
   "source": [
    "(<a href='#Table of Contents'>Top</a>)<a id='choice_model'></a><h2>Choice of model</h2>"
   ]
  },
  {
   "cell_type": "code",
   "execution_count": 22,
   "metadata": {},
   "outputs": [
    {
     "data": {
      "application/vnd.jupyter.widget-view+json": {
       "model_id": "e94230f18e7a4838937ac93094c6b958",
       "version_major": 2,
       "version_minor": 0
      },
      "text/html": [
       "<p>Failed to display Jupyter Widget of type <code>RadioButtons</code>.</p>\n",
       "<p>\n",
       "  If you're reading this message in Jupyter Notebook or JupyterLab, it may mean\n",
       "  that the widgets JavaScript is still loading. If this message persists, it\n",
       "  likely means that the widgets JavaScript library is either not installed or\n",
       "  not enabled. See the <a href=\"https://ipywidgets.readthedocs.io/en/stable/user_install.html\">Jupyter\n",
       "  Widgets Documentation</a> for setup instructions.\n",
       "</p>\n",
       "<p>\n",
       "  If you're reading this message in another notebook frontend (for example, a static\n",
       "  rendering on GitHub or <a href=\"https://nbviewer.jupyter.org/\">NBViewer</a>),\n",
       "  it may mean that your frontend doesn't currently support widgets.\n",
       "</p>\n"
      ],
      "text/plain": [
       "RadioButtons(description=u'Model:', options=('BrownianTranslationalDiffusion', 'JumpTranslationalDiffusion', 'IsotropicRotationalDiffusion', 'WaterTeixeira'), value='BrownianTranslationalDiffusion')"
      ]
     },
     "metadata": {},
     "output_type": "display_data"
    },
    {
     "data": {
      "application/vnd.jupyter.widget-view+json": {
       "model_id": "ba1fc91df3bc470487557a1c5abde26f",
       "version_major": 2,
       "version_minor": 0
      },
      "text/html": [
       "<p>Failed to display Jupyter Widget of type <code>Checkbox</code>.</p>\n",
       "<p>\n",
       "  If you're reading this message in Jupyter Notebook or JupyterLab, it may mean\n",
       "  that the widgets JavaScript is still loading. If this message persists, it\n",
       "  likely means that the widgets JavaScript library is either not installed or\n",
       "  not enabled. See the <a href=\"https://ipywidgets.readthedocs.io/en/stable/user_install.html\">Jupyter\n",
       "  Widgets Documentation</a> for setup instructions.\n",
       "</p>\n",
       "<p>\n",
       "  If you're reading this message in another notebook frontend (for example, a static\n",
       "  rendering on GitHub or <a href=\"https://nbviewer.jupyter.org/\">NBViewer</a>),\n",
       "  it may mean that your frontend doesn't currently support widgets.\n",
       "</p>\n"
      ],
      "text/plain": [
       "Checkbox(value=False, description=u'Use Gaussian resolution')"
      ]
     },
     "metadata": {},
     "output_type": "display_data"
    }
   ],
   "source": [
    "# Choose model to use\n",
    "model = ipywidgets.RadioButtons(\n",
    "    options=['BrownianTranslationalDiffusion', \n",
    "             'JumpTranslationalDiffusion', \n",
    "             'IsotropicRotationalDiffusion',\n",
    "             'WaterTeixeira'],\n",
    "    description='Model:',\n",
    "    disabled=False\n",
    ")\n",
    "\n",
    "resolution_on = ipywidgets.widgets.Checkbox(\n",
    "    value=False,\n",
    "    description='Use Gaussian resolution',\n",
    "    disabled=False,\n",
    "    continuous_update=True\n",
    ")\n",
    "\n",
    "display(model)\n",
    "display(resolution_on)\n",
    "# resolution_on.on_widget_constructed(run_all)"
   ]
  },
  {
   "cell_type": "code",
   "execution_count": 23,
   "metadata": {},
   "outputs": [
    {
     "data": {
      "application/javascript": [
       "IPython.notebook.execute_cell_range(IPython.notebook.get_selected_index()+1, IPython.notebook.get_selected_index()+2)"
      ],
      "text/plain": [
       "<IPython.core.display.Javascript object>"
      ]
     },
     "metadata": {},
     "output_type": "display_data"
    }
   ],
   "source": [
    "if resolution_on.value is True:\n",
    "    sig = ipywidgets.widgets.Text(\n",
    "    value='',\n",
    "    placeholder='Sigma of Gaussian resolution',\n",
    "    description='Sigma:',\n",
    "    disabled=False)\n",
    "    display(sig)\n",
    "else:\n",
    "    display(Javascript('IPython.notebook.execute_cell_range(IPython.notebook.get_selected_index()+1, IPython.notebook.get_selected_index()+2)'))\n",
    "\n",
    "    # display(Javascript('IPython.notebook.execute_cell(IPython.notebook.get_selected_index()+1)')) "
   ]
  },
  {
   "cell_type": "markdown",
   "metadata": {},
   "source": [
    "(<a href='#Table of Contents'>Top</a>)<a id='display_model'></a><h2>Plot</h2>"
   ]
  },
  {
   "cell_type": "code",
   "execution_count": 24,
   "metadata": {},
   "outputs": [
    {
     "name": "stdout",
     "output_type": "stream",
     "text": [
      "Value of self-diffusion coefficient (in A^2*meV)? 1\n",
      "Integral S(Q= 0.25 ,w) =  0.98011200937\n",
      "Integral S(Q= 0.5 ,w) =  0.920832809042\n",
      "Integral S(Q= 0.75 ,w) =  0.825458917022\n",
      "Integral S(Q= 1.0 ,w) =  0.704831897318\n",
      "Integral S(Q= 1.25 ,w) =  0.577791048586\n",
      "Integral S(Q= 1.5 ,w) =  0.462594288811\n",
      "Integral S(Q= 1.75 ,w) =  0.368299581185\n",
      "Integral S(Q= 2.0 ,w) =  0.295167015716\n"
     ]
    },
    {
     "data": {
      "image/png": "[encoded data removed]",
      "text/plain": [
       "<matplotlib.figure.Figure at 0x10ee4ba90>"
      ]
     },
     "metadata": {},
     "output_type": "display_data"
    }
   ],
   "source": [
    "# Resolution    \n",
    "if resolution_on.value is True:\n",
    "    sigma = float(sig.value)\n",
    "    resol = np.exp(-omega**2/(2*sigma**2)) / (sigma*np.sqrt(2*np.pi))\n",
    "else:\n",
    "    resol = None\n",
    "\n",
    "if model.value == 'BrownianTranslationalDiffusion':\n",
    "    D = float(raw_input(\"Value of self-diffusion coefficient (in A^2*meV)? \"))\n",
    "    model_sqw = QENSmodels.sqwBrownianTranslationalDiffusion(omega, q, scale, center, D)\n",
    "    \n",
    "elif model.value == 'JumpTranslationalDiffusion':\n",
    "    D = float(raw_input(\"Value of self-diffusion coefficient (in A^2*meV)? \"))\n",
    "    resTime = float(raw_input(\"Residence time between jumps (in meV^-1)? \"))\n",
    "    model_sqw = QENSmodels.sqwJumpTranslationalDiffusion(omega, q, scale, center,\n",
    "           D, resTime)\n",
    "           \n",
    "elif model.value == 'IsotropicRotationalDiffusion':\n",
    "    R = float(raw_input(\"Radius of sphere (in A)? \"))\n",
    "    DR = float(raw_input(\"Value of rotational diffusion coefficient (in meV)? \"))\n",
    "    model_sqw = QENSmodels.sqwIsotropicRotationalDiffusion(omega, q, scale, center,\n",
    "           R, DR) \n",
    "\n",
    "elif model.value == 'WaterTeixeira':\n",
    "    D = float(raw_input(\"Value of self-diffusion coefficient (in A^2*meV)? \"))\n",
    "    resTime = float(raw_input(\"Residence time between jumps (in meV^-1)? \"))\n",
    "    R = float(raw_input(\"Radius of sphere (in A)? \"))\n",
    "    DR = float(raw_input(\"Value of rotational diffusion coefficient (in meV)? \"))\n",
    "    model_sqw = QENSmodels.sqwWaterTeixeira(omega, q, scale, center,\n",
    "           D, resTime, R, DR)\n",
    "    \n",
    "if resol is not None:\n",
    "    sqw = np.asarray([np.convolve(model_sqw[i,:], resol/resol.sum(), mode='same') for i in range(len(q))])\n",
    "else:\n",
    "    sqw = model_sqw\n",
    "    \n",
    "# Plot\n",
    "fig = plt.figure(1)\n",
    "\n",
    "\n",
    "ax1 = fig.add_subplot(121)\n",
    "for i in range(q.size):\n",
    "    integral = np.trapz(sqw[i,:], omega)\n",
    "    print (\"Integral S(Q=\",q[i],\",w) = \", integral)\n",
    "    ax1.plot(omega, sqw[i,:], label=str(q[i]))\n",
    "ax1.grid(True)\n",
    "ax1.set_xlabel('Omega')\n",
    "ax1.set_ylabel('S(Q,w)')\n",
    "ax1.set_yscale('log')\n",
    "\n",
    "ax2 = fig.add_subplot(122)\n",
    "for i in range(q.size):\n",
    "    ax2.plot(omega, sqw[i,:], label=str(q[i]))\n",
    "ax2.grid(True)\n",
    "ax2.set_xlabel('Omega')\n",
    "ax2.set_ylabel('S(Q,w)')\n",
    "\n",
    "\n",
    "plt.tight_layout()\n",
    "plt.suptitle('S(Q, w) log and linear scales for {model}'.format(model=model.value),x=0.55,y=1.025)\n",
    "plt.legend(bbox_to_anchor=(1.05, 1), loc=2, borderaxespad=0.)\n",
    "plt.show()   "
   ]
  },
  {
   "cell_type": "code",
   "execution_count": null,
   "metadata": {},
   "outputs": [],
   "source": []
  },
  {
   "cell_type": "code",
   "execution_count": null,
   "metadata": {},
   "outputs": [],
   "source": []
  }
 ],
 "metadata": {
  "kernelspec": {
   "display_name": "Python 2",
   "language": "python",
   "name": "python2"
  },
  "language_info": {
   "codemirror_mode": {
    "name": "ipython",
    "version": 2
   },
   "file_extension": ".py",
   "mimetype": "text/x-python",
   "name": "python",
   "nbconvert_exporter": "python",
   "pygments_lexer": "ipython2",
   "version": "2.7.13"
  }
 },
 "nbformat": 4,
 "nbformat_minor": 2
}
