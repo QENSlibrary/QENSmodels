{
 "cells": [
  {
   "cell_type": "markdown",
   "metadata": {},
   "source": [
    "<div class=\"alert alert-block alert-warning\">\n",
    "<b>Disclaimer:</b> The main objective of the jupyter notebooks is to show how to use the models of the <i>QENS library</i> by\n",
    "    \n",
    "- building a fitting model: composition of models, convolution with a resolution function\n",
    "- setting and run the fit   \n",
    "- extracting and displaying information about the results\n",
    "\n",
    "These steps have a minimizer-dependent syntax. That is one of the reasons why different minimizers have been used in the notebooks provided as examples.\n",
    "But, the initial guessed parameters might not be optimal, resulting in a poor fit of the reference data.\n",
    "</div>\n",
    "\n",
    "<h1> Example: Water Teixeira model convoluted with a resolution function fitted with lmfit </h1>\n",
    "\n",
    "<a id='Table of Contents'></a><h1>Table of Contents</h1>\n",
    "\n",
    "- <a href='#introduction'>Introduction</a> \n",
    "- <a href='#imports'>Import and install required libraries</a>  \n",
    "- <a href='#set_fitting'>Setting of fitting</a>  \n",
    "- <a href='#run_fit'>Running the fit</a>  \n",
    "- <a href='#results'>Showing the results</a> "
   ]
  },
  {
   "cell_type": "markdown",
   "metadata": {},
   "source": [
    "(<a href='#Table of Contents'>Top</a>)<a id='introduction'></a><h2>Introduction</h2>\n",
    "\n",
    "<div class=\"alert alert-block alert-info\">\n",
    "This example shows how to use the <b>water_teixeira</b> model and fit the data using lmfit.\n",
    "</div>\n",
    "The data are two sets of water data measured at IN5 (ILL) at 5 &#x212B;.\n",
    "\n",
    "**Reference:** J. Qvist, H. Schober and B. Halle, *J. Chem. Phys.* **134**, 144508 (2011)"
   ]
  },
  {
   "cell_type": "markdown",
   "metadata": {},
   "source": [
    "(<a href='#Table of Contents'>Top</a>)<a id='imports'></a><h2> Import python modules for plotting, fitting... </h2>"
   ]
  },
  {
   "cell_type": "code",
   "execution_count": null,
   "metadata": {},
   "outputs": [],
   "source": [
    "# Imported required libraries\n",
    "from __future__ import print_function\n",
    "import sys\n",
    "import os\n",
    "\n",
    "import h5py\n",
    "from scipy.integrate import simps\n",
    "\n",
    "import numpy as np\n",
    "%matplotlib inline\n",
    "import matplotlib.pyplot as plt\n",
    "\n",
    "# for interactive plots\n",
    "import panel\n",
    "panel.extension()\n",
    "import panel.widgets as pnw\n",
    "\n",
    "# the following two lines are to remove the warning about too many figures open simultaneously\n",
    "from matplotlib import rcParams\n",
    "rcParams.update({'figure.max_open_warning': 0})"
   ]
  },
  {
   "cell_type": "code",
   "execution_count": null,
   "metadata": {},
   "outputs": [],
   "source": [
    "# install lmfit (if not already installed)\n",
    "import pkgutil\n",
    "if not pkgutil.find_loader(\"lmfit\"):\n",
    "    lmfitY = pnw.Button(name='Yes', button_type='success')\n",
    "    lmfitN = pnw.Button(name='No', button_type='danger')\n",
    "    choice_installation = panel.Column(\"Do you want to install lmfit?\", panel.Row(lmfitY, lmfitN))\n",
    "    display(choice_installation)"
   ]
  },
  {
   "cell_type": "markdown",
   "metadata": {},
   "source": [
    "<h3> install lmfit (if not already installed) </h3>"
   ]
  },
  {
   "cell_type": "code",
   "execution_count": null,
   "metadata": {},
   "outputs": [],
   "source": [
    "if not pkgutil.find_loader(\"lmfit\"):\n",
    "    if lmfitY.clicks>0:\n",
    "         !{sys.executable} -m pip install lmfit\n",
    "    elif lmfitN.clicks>0:\n",
    "        print(\"You will not be able to run some of the remaining parts of this notebook\")"
   ]
  },
  {
   "cell_type": "code",
   "execution_count": null,
   "metadata": {},
   "outputs": [],
   "source": [
    "# required imports from lmfit\n",
    "from lmfit import Model, Parameters, CompositeModel\n",
    "from scipy.interpolate import interp1d"
   ]
  },
  {
   "cell_type": "markdown",
   "metadata": {},
   "source": [
    "<h3> install QENSmodels (if not already installed) </h3>"
   ]
  },
  {
   "cell_type": "code",
   "execution_count": null,
   "metadata": {},
   "outputs": [],
   "source": [
    "if not pkgutil.find_loader(\"QENSmodels\"):\n",
    "    buttonY = pnw.Button(name='Yes', button_type='success')\n",
    "    buttonN = pnw.Button(name='No', button_type='danger')\n",
    "    choice_installation = panel.Column(\"Do you want to install the QENSmodels' library?\", panel.Row(buttonY, buttonN))\n",
    "    display(choice_installation)"
   ]
  },
  {
   "cell_type": "code",
   "execution_count": null,
   "metadata": {},
   "outputs": [],
   "source": [
    "if not pkgutil.find_loader(\"QENSmodels\"):\n",
    "    if buttonY.clicks>0:\n",
    "        !{sys.executable} -m pip install git+https://github.com/QENSlibrary/QENSmodels#egg=QENSmodels\n",
    "    elif buttonN.clicks>0:\n",
    "        print(\"You will not be able to run some of the remaining parts of this notebook\")"
   ]
  },
  {
   "cell_type": "markdown",
   "metadata": {},
   "source": [
    " (<a href='#Table of Contents'>Top</a>)<a id='set_fitting'></a><h2>Setting of fitting </h2>\n",
    "<h3> import reference data and select energy range</h3>"
   ]
  },
  {
   "cell_type": "code",
   "execution_count": null,
   "metadata": {},
   "outputs": [],
   "source": [
    "path_to_data = './data/'\n",
    "\n",
    "with h5py.File(path_to_data + 'H2O_293K_5A.hdf') as f:\n",
    "    data_in = f['entry1']\n",
    "    w = data_in['data1']\n",
    "    x = w['X'][()]  # energy or time values\n",
    "    unit_w=w['X'].attrs['long_name']\n",
    "    unit_q=w['Y'].attrs['long_name']\n",
    "    y = w['DATA'][()] # intensities\n",
    "    e = w['errors'][()]  # errors for the intensities\n",
    "    # Obtain the momentum transfer values\n",
    "    q = w['Y'][()]\n",
    "    data_5A = dict(q=q, x=x, y=y, e=e)"
   ]
  },
  {
   "cell_type": "code",
   "execution_count": null,
   "metadata": {},
   "outputs": [],
   "source": [
    "# number of spectra (i.e. number of different q-values)\n",
    "nb_q_values = len(data_5A['q'])"
   ]
  },
  {
   "cell_type": "markdown",
   "metadata": {},
   "source": [
    "<h3> display units of input data </h3>"
   ]
  },
  {
   "cell_type": "code",
   "execution_count": null,
   "metadata": {},
   "outputs": [],
   "source": [
    "print(\"The names and units of `w` ( `x`axis) and `q` are: {} and {}, respectively.\".format(str(unit_w[0], 'utf-8'), str(unit_q[0], 'utf-8')))"
   ]
  },
  {
   "cell_type": "markdown",
   "metadata": {},
   "source": [
    "<h3> import resolution data and normalize (unit area) </h3>"
   ]
  },
  {
   "cell_type": "code",
   "execution_count": null,
   "metadata": {},
   "outputs": [],
   "source": [
    "path_to_data = './data/'\n",
    "\n",
    "with h5py.File(path_to_data + 'V_273K_5A.hdf') as f:\n",
    "    data = f['entry1']\n",
    "    w = data['data1']  \n",
    "    res_5A_x = w['X'][()]\n",
    "    res_5A = np.transpose(w['DATA'][()])\n",
    "\n",
    "# Force resolution function to have unit area    \n",
    "for i in range(len(data_5A['q'])):\n",
    "    area = simps(res_5A[:,i], data_5A['x'])\n",
    "    res_5A[:,i] /= area"
   ]
  },
  {
   "cell_type": "markdown",
   "metadata": {},
   "source": [
    "<h3> Mask data according to energy range and filter negative error </h3>"
   ]
  },
  {
   "cell_type": "code",
   "execution_count": null,
   "metadata": {},
   "outputs": [],
   "source": [
    "# Filter according to energy-range\n",
    "mask = np.intersect1d(np.where(data_5A['x']>-1.), np.where(data_5A['x']<1.))\n",
    "\n",
    "f_5A_mask = dict()\n",
    "f_5A_mask['x'] = np.asarray([data_5A['x'][mask] for i in range(nb_q_values)])\n",
    "f_5A_mask['y'] = np.asarray([y[mask] for y in data_5A['y']])\n",
    "f_5A_mask['e'] = np.asarray([e[mask] for e in data_5A['e']])\n",
    "\n",
    "# Select resolution according to energy range\n",
    "res_5A_x=res_5A_x[mask]\n",
    "res_5A=res_5A[mask,:]"
   ]
  },
  {
   "cell_type": "code",
   "execution_count": null,
   "metadata": {},
   "outputs": [],
   "source": [
    "# Filter according to negative error values \n",
    "# resolution\n",
    "resol_5A_x = np.asarray([res_5A_x[np.where(f_5A_mask['e'][i] > 0.0)] for i in range(nb_q_values)])\n",
    "resol_5A = np.asarray([res_5A[np.where(f_5A_mask['e'][i] > 0.0), i][0] for i in range(nb_q_values)])\n",
    "\n",
    "# data\n",
    "f_5A = dict()\n",
    "f_5A['x'] = np.asarray([x[np.where(f_5A_mask['e'][i] > 0.0)] for i, x in enumerate(f_5A_mask['x'])])\n",
    "f_5A['y'] = np.asarray([y[np.where(f_5A_mask['e'][i] > 0.0)] for i, y in enumerate(f_5A_mask['y'])])\n",
    "f_5A['e'] = np.asarray([e[np.where(f_5A_mask['e'][i] > 0.0)] for i, e in enumerate(f_5A_mask['e'])])"
   ]
  },
  {
   "cell_type": "code",
   "execution_count": null,
   "metadata": {},
   "outputs": [],
   "source": [
    "# plot experimental data\n",
    "f, ax = plt.subplots()\n",
    "[ax.semilogy(f_5A['x'][i], f_5A['y'][i]) for i in range(nb_q_values)]\n",
    "ax.grid()\n",
    "ax.set_xlabel(r'Energy transfer (meV)') \n",
    "ax.set_title('Reference data - 5 Angstrom') \n",
    "plt.show()"
   ]
  },
  {
   "cell_type": "code",
   "execution_count": null,
   "metadata": {},
   "outputs": [],
   "source": [
    "# plot experimental data\n",
    "f, ax = plt.subplots()\n",
    "[ax.semilogy(resol_5A_x[i], resol_5A[i]) for i in range(nb_q_values)]\n",
    "ax.grid()\n",
    "ax.set_xlabel(r'Energy transfer (meV)') \n",
    "ax.set_title('Resolution function - 5 Angstrom') \n",
    "plt.show()"
   ]
  },
  {
   "cell_type": "markdown",
   "metadata": {},
   "source": [
    "<h3> create function for instrument resolution data (cubic interpolation between tabulated data points) </h3>"
   ]
  },
  {
   "cell_type": "code",
   "execution_count": null,
   "metadata": {},
   "outputs": [],
   "source": [
    "f_interp = [interp1d(resol_5A_x[i], resol_5A[i]/np.sum(resol_5A[i]), kind='cubic', bounds_error=False, fill_value='extrapolate') for i in range(nb_q_values)]\n",
    "\n",
    "def irf_gate(w, spectrum_nb=0):\n",
    "    \"\"\" Function defined from the interpolation of instrument resolution data \n",
    "    Used to define fitting model and plot \"\"\" \n",
    "    return f_interp[spectrum_nb](w)"
   ]
  },
  {
   "cell_type": "code",
   "execution_count": null,
   "metadata": {},
   "outputs": [],
   "source": [
    "# check interpolation for first spectrum of resolution function: plot tabulated data and interpolated data\n",
    "indx = 0\n",
    "\n",
    "plt.plot(resol_5A_x[indx], resol_5A[indx]/np.sum(resol_5A[indx]), '.', label='tabulated data. q={:.2}'.format(data_5A['q'][indx]))\n",
    "plt.plot(f_5A['x'][indx], irf_gate(f_5A['x'][indx], indx), '--', label='extrapolated data. q={:.2}'.format(data_5A['q'][indx]))\n",
    "\n",
    "plt.legend(bbox_to_anchor=(1.1, .95))\n",
    "plt.xlabel('w')\n",
    "plt.title('Instrument resolution: plot of tabulated data and interpolated data for spectrum {}'.format(indx))\n",
    "plt.grid()\n",
    "plt.show()"
   ]
  },
  {
   "cell_type": "markdown",
   "metadata": {},
   "source": [
    "<h3> create fitting model </h3>"
   ]
  },
  {
   "cell_type": "code",
   "execution_count": null,
   "metadata": {},
   "outputs": [],
   "source": [
    "import QENSmodels"
   ]
  },
  {
   "cell_type": "code",
   "execution_count": null,
   "metadata": {},
   "outputs": [],
   "source": [
    "# Create convolution function \n",
    "# code from https://lmfit.github.io/lmfit-py/model.html\n",
    "\n",
    "def convolve(arr, kernel):\n",
    "    # simple convolution of two arrays\n",
    "    npts = min(len(arr), len(kernel))\n",
    "    pad  = np.ones(npts)\n",
    "    tmp  = np.concatenate((pad*arr[0], arr, pad*arr[-1]))\n",
    "    \n",
    "    out  = np.convolve(tmp, kernel, mode='valid')\n",
    "    noff = int((len(out) - npts)/2)\n",
    "    return out[noff:noff+npts]"
   ]
  },
  {
   "cell_type": "code",
   "execution_count": null,
   "metadata": {},
   "outputs": [],
   "source": [
    "model = CompositeModel(Model(irf_gate), Model(QENSmodels.sqwWaterTeixeira), convolve) \n",
    "\n",
    "print('Names of parameters:', model.param_names)\n",
    "print('Independent variable(s):', model.independent_vars)\n",
    "\n",
    "# Define boundaries for parameters to be refined\n",
    "model.set_param_hint('scale', min=0, max=100)\n",
    "model.set_param_hint('center', min=-0.1, max=0.1)\n",
    "model.set_param_hint('D', min=0.05, max=0.25)\n",
    "model.set_param_hint('resTime', min=0, max=1)\n",
    "model.set_param_hint('radius', min=0.9, max=1.1)\n",
    "model.set_param_hint('DR', min=0, max=1)\n",
    "\n",
    "# Fix some of the parameters\n",
    "model.set_param_hint('q', vary=False)\n",
    "model.set_param_hint('spectrum_nb', vary=False)\n",
    "\n",
    "params = model.make_params()"
   ]
  },
  {
   "cell_type": "code",
   "execution_count": null,
   "metadata": {},
   "outputs": [],
   "source": [
    "# Plot of the fitting models without and convoluted with the resolution function\n",
    "# THe values of the parameters are specified below. Therefore they could be different from those used in the fitting.\n",
    "\n",
    "fig = plt.figure(figsize=(20,10))\n",
    "\n",
    "ax1 = fig.add_subplot(121)\n",
    "for i in range(nb_q_values):\n",
    "    xx = f_5A['x'][i]\n",
    "    ax1.plot(xx, QENSmodels.sqwWaterTeixeira(xx, data_5A['q'][i], scale=1, center=0, D=1, resTime=1, radius=1, DR=1), label='q={:.2}'.format(data_5A['q'][i]))  \n",
    "ax1.grid(True)\n",
    "plt.title('No resolution', fontsize=20)\n",
    "ax1.set_xlabel('Omega', fontsize=20)\n",
    "ax1.set_ylabel('S(Q,w)', fontsize=20)\n",
    "ax1.set_xlim(-1,1)\n",
    "ax1.tick_params(labelsize=16)\n",
    "\n",
    "ax2 = fig.add_subplot(122)\n",
    "for i in range(nb_q_values):\n",
    "    params_plot = model.make_params(nb_spectrum=i, \n",
    "                                    q=data_5A['q'][i],\n",
    "                                    scale=10.,\n",
    "                                    center=0.,\n",
    "                                    D=0.13,\n",
    "                                    resTime=0.1,\n",
    "                                    radius=1.,\n",
    "                                    DR=0.3)    \n",
    "    xx = f_5A['x'][i]\n",
    "    ax2.plot(xx, model.eval(params_plot, w=xx))\n",
    "\n",
    "ax2.grid(True)\n",
    "ax2.set_xlabel('w', fontsize=20)\n",
    "plt.title('Convoluted with resolution', fontsize=20)\n",
    "ax2.set_ylabel('R $\\otimes$ S(Q,w)', fontsize=20)\n",
    "ax2.set_xlim(-1,1)\n",
    "ax2.tick_params(labelsize=16)\n",
    "\n",
    "plt.tight_layout()\n",
    "ax1.legend(bbox_to_anchor=(0., 1.07, 1., .102), loc='lower right', ncol=4, mode=\"expand\", borderaxespad=0., fontsize=20)\n",
    "\n",
    "plt.show()   "
   ]
  },
  {
   "cell_type": "markdown",
   "metadata": {},
   "source": [
    "(<a href='#Table of Contents'>Top</a>)<a id='run_fit'></a><h2>Running the fit</h2>\n",
    "\n",
    "Run the fit using `lmfit`."
   ]
  },
  {
   "cell_type": "code",
   "execution_count": null,
   "metadata": {},
   "outputs": [],
   "source": [
    "initial_parameters_values = [10., 0., 0.13, 0.1, 1., 0.3]\n",
    "\n",
    "result_fit = [None,] * nb_q_values  # store fits for all spectra\n",
    "for i in range(nb_q_values):\n",
    "    params = model.make_params(nb_spectrum=i, q=data_5A['q'][i],\n",
    "                               scale=initial_parameters_values[0], \n",
    "                               center=initial_parameters_values[1], \n",
    "                               D=initial_parameters_values[2],\n",
    "                               resTime=initial_parameters_values[3],\n",
    "                               radius=initial_parameters_values[4],\n",
    "                               DR=initial_parameters_values[5])\n",
    "    \n",
    "    # Q-independent parameters\n",
    "    if i==0:\n",
    "        D_value = params['D'].value\n",
    "        resTime_value = params['resTime'].value\n",
    "        radius_value = params['radius'].value\n",
    "        DR_value = params['DR'].value\n",
    "    else:\n",
    "        params['D'].set(value=D_value)\n",
    "        params['resTime'].set(value=resTime_value)\n",
    "        params['radius'].set(value=radius_value)\n",
    "        params['DR'].set(value=DR_value)\n",
    "\n",
    "    result_fit[i] = model.fit(f_5A['y'][i], params,w=f_5A['x'][i])"
   ]
  },
  {
   "cell_type": "markdown",
   "metadata": {},
   "source": [
    "(<a href='#Table of Contents'>Top</a>)<a id='results'></a><h2>Showing the results </h2>\n",
    "using methods implemented in `lmfit`"
   ]
  },
  {
   "cell_type": "code",
   "execution_count": null,
   "metadata": {},
   "outputs": [],
   "source": [
    "# display result\n",
    "for i in range(nb_q_values):\n",
    "    print('Result of fit {}:\\n'.format(i),result_fit[i].fit_report())"
   ]
  },
  {
   "cell_type": "code",
   "execution_count": null,
   "metadata": {},
   "outputs": [],
   "source": [
    "# plot results using lmfit's features\n",
    "for i in range(nb_q_values):\n",
    "    result_fit[i].plot()"
   ]
  },
  {
   "cell_type": "code",
   "execution_count": null,
   "metadata": {},
   "outputs": [],
   "source": [
    "# other option to plot: experimental data, initial fitting model and fitted model for each spectrum\n",
    "for indx in range(nb_q_values):\n",
    "    plt.plot(f_5A['x'][indx], f_5A['y'][indx], 'bo',label='exp')\n",
    "    plt.plot(f_5A['x'][indx], result_fit[indx].init_fit, 'k--',label='ini')\n",
    "    plt.plot(f_5A['x'][indx], result_fit[indx].best_fit, 'r-', label='fin')\n",
    "    plt.title(\"q={:.2}\".format(data_5A['q'][indx]))\n",
    "    plt.legend()\n",
    "    plt.grid()\n",
    "    plt.show()"
   ]
  },
  {
   "cell_type": "code",
   "execution_count": null,
   "metadata": {},
   "outputs": [],
   "source": []
  }
 ],
 "metadata": {
  "kernelspec": {
   "display_name": "Python 3",
   "language": "python",
   "name": "python3"
  },
  "language_info": {
   "codemirror_mode": {
    "name": "ipython",
    "version": 3
   },
   "file_extension": ".py",
   "mimetype": "text/x-python",
   "name": "python",
   "nbconvert_exporter": "python",
   "pygments_lexer": "ipython3",
   "version": "3.7.2"
  },
  "toc": {
   "base_numbering": 1,
   "nav_menu": {},
   "number_sections": true,
   "sideBar": true,
   "skip_h1_title": true,
   "title_cell": "Table of Contents",
   "title_sidebar": "Contents",
   "toc_cell": false,
   "toc_position": {},
   "toc_section_display": true,
   "toc_window_display": true
  },
  "varInspector": {
   "cols": {
    "lenName": 16,
    "lenType": 16,
    "lenVar": 40
   },
   "kernels_config": {
    "python": {
     "delete_cmd_postfix": "",
     "delete_cmd_prefix": "del ",
     "library": "var_list.py",
     "varRefreshCmd": "print(var_dic_list())"
    },
    "r": {
     "delete_cmd_postfix": ") ",
     "delete_cmd_prefix": "rm(",
     "library": "var_list.r",
     "varRefreshCmd": "cat(var_dic_list()) "
    }
   },
   "types_to_exclude": [
    "module",
    "function",
    "builtin_function_or_method",
    "instance",
    "_Feature"
   ],
   "window_display": false
  }
 },
 "nbformat": 4,
 "nbformat_minor": 2
}
