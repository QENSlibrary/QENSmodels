{
 "cells": [
  {
   "cell_type": "markdown",
   "metadata": {},
   "source": [
    "# Examples using Lorentzian model \n",
    "\n",
    "<a id='Table of Contents'></a><h3>Table of Contents</h3>\n",
    "- <a href='#introduction'>Introduction</a>  \n",
    "- <a href='#simple_fit_scipy'>Example: simple fit using scipy.optimize.curve_fit</a>  \n",
    "- <a href='#simple_fit_lmfit'>Example: simple fit  using lmfit</a>  \n",
    "- <a href='#example_2lorentizans_resolution'>Example: fit using two lorentzians convoluted with the instrument resolution and lmfit as the fitting engine</a> "
   ]
  },
  {
   "cell_type": "markdown",
   "metadata": {},
   "source": [
    "(<a href='#Table of Contents'>Top</a>)<a id='introduction'></a><h2>Introduction</h2>\n",
    "<div class=\"alert alert-block alert-info\">\n",
    "The objective of this notebook is to show how to use one of the models of \n",
    "the [QENSlibrary](https://github.com/QENSlibrary/QENSmodels) to perform some \n",
    "fits.\n",
    "</div>\n",
    "\n",
    "Two different modules will be used for fitting:\n",
    "- [`scipy.optimize.curve_fit`](https://docs.scipy.org/doc/scipy/reference/generated/scipy.optimize.curve_fit.html)\n",
    "- [`lmfit`](https://lmfit.github.io/lmfit-py/)"
   ]
  },
  {
   "cell_type": "code",
   "execution_count": 1,
   "metadata": {},
   "outputs": [],
   "source": [
    "# import python modules for plotting, fitting\n",
    "import numpy as np\n",
    "%matplotlib inline\n",
    "import matplotlib.pyplot as plt\n",
    "from scipy.optimize import curve_fit\n",
    "# for interactive plot\n",
    "import ipywidgets\n",
    "\n",
    "# import model from QENS library\n",
    "import QENSmodels"
   ]
  },
  {
   "cell_type": "markdown",
   "metadata": {},
   "source": [
    "The widget below shows the lorentzian peak shape function imported from QENSmodels where the function's parameters *ScaleFactor*, *PeakCentre* and *FWHM* can be varied:"
   ]
  },
  {
   "cell_type": "code",
   "execution_count": 2,
   "metadata": {},
   "outputs": [
    {
     "data": {
      "application/vnd.jupyter.widget-view+json": {
       "model_id": "766af482a01c4cb194eb108e44017d1d",
       "version_major": 2,
       "version_minor": 0
      },
      "text/html": [
       "<p>Failed to display Jupyter Widget of type <code>interactive</code>.</p>\n",
       "<p>\n",
       "  If you're reading this message in Jupyter Notebook or JupyterLab, it may mean\n",
       "  that the widgets JavaScript is still loading. If this message persists, it\n",
       "  likely means that the widgets JavaScript library is either not installed or\n",
       "  not enabled. See the <a href=\"https://ipywidgets.readthedocs.io/en/stable/user_install.html\">Jupyter\n",
       "  Widgets Documentation</a> for setup instructions.\n",
       "</p>\n",
       "<p>\n",
       "  If you're reading this message in another notebook frontend (for example, a static\n",
       "  rendering on GitHub or <a href=\"https://nbviewer.jupyter.org/\">NBViewer</a>),\n",
       "  it may mean that your frontend doesn't currently support widgets.\n",
       "</p>\n"
      ],
      "text/plain": [
       "interactive(children=(IntSlider(value=5, description=u'scale_factor', max=10, min=1), IntSlider(value=5, description=u'peak_centre', max=10), IntSlider(value=3, description=u'fwhm', max=5, min=1), Output(layout=Layout(height=u'270px'))), _dom_classes=('widget-interact',))"
      ]
     },
     "metadata": {},
     "output_type": "display_data"
    },
    {
     "data": {
      "application/vnd.jupyter.widget-view+json": {
       "model_id": "a24d6b2d22a3483482968075cee2a448",
       "version_major": 2,
       "version_minor": 0
      },
      "text/html": [
       "<p>Failed to display Jupyter Widget of type <code>Button</code>.</p>\n",
       "<p>\n",
       "  If you're reading this message in Jupyter Notebook or JupyterLab, it may mean\n",
       "  that the widgets JavaScript is still loading. If this message persists, it\n",
       "  likely means that the widgets JavaScript library is either not installed or\n",
       "  not enabled. See the <a href=\"https://ipywidgets.readthedocs.io/en/stable/user_install.html\">Jupyter\n",
       "  Widgets Documentation</a> for setup instructions.\n",
       "</p>\n",
       "<p>\n",
       "  If you're reading this message in another notebook frontend (for example, a static\n",
       "  rendering on GitHub or <a href=\"https://nbviewer.jupyter.org/\">NBViewer</a>),\n",
       "  it may mean that your frontend doesn't currently support widgets.\n",
       "</p>\n"
      ],
      "text/plain": [
       "Button(description=u'Reset', style=ButtonStyle())"
      ]
     },
     "metadata": {},
     "output_type": "display_data"
    }
   ],
   "source": [
    "xx = np.linspace(-10,10,100)\n",
    "\n",
    "def interactive_plot(scale_factor, peak_centre, fwhm):\n",
    "    plt.plot(xx, QENSmodels.lorentzian(xx, float(scale_factor), float(peak_centre), float(fwhm)))\n",
    "    plt.ylabel('lorentzian(x,{scale_factor},{peak_centre},{fwhm})'.\n",
    "               format(scale_factor=scale_factor, peak_centre=peak_centre, fwhm=fwhm))\n",
    "    plt.xlabel('x')\n",
    "    plt.grid()\n",
    "    plt.show()\n",
    "\n",
    "interactive_plot = ipywidgets.interactive(interactive_plot, \n",
    "                                          scale_factor=(1, 10), \n",
    "                                          peak_centre=(0, 10), \n",
    "                                          fwhm=(1, 5))\n",
    "\n",
    "def reset_values(b):\n",
    "    \"\"\"Reset the interactive plots to inital values.\"\"\"\n",
    "    interactive_plot.children[0].value = 5\n",
    "    interactive_plot.children[1].value = 5\n",
    "    interactive_plot.children[2].value = 3\n",
    "\n",
    "reset_button = ipywidgets.Button(description = \"Reset\")\n",
    "reset_button.on_click(reset_values)\n",
    "\n",
    "output = interactive_plot.children[-1]\n",
    "output.layout.height = '270px'\n",
    "display(interactive_plot, reset_button)"
   ]
  },
  {
   "cell_type": "markdown",
   "metadata": {},
   "source": [
    "(<a href='#Table of Contents'>Top</a>)<a id='simple_fit_scipy'></a><h2>Example: simple fit using scipy.optimize.curve_fit</h2>\n",
    "\n",
    "**Input:** the reference data for this simple example correspond to a Lorentzian with added noise.\n",
    "\n",
    "The fit is performed using `scipy.optimize.curve_fit`. <br> Examples are based on implementations from https://docs.scipy.org/doc/scipy/reference/generated/scipy.optimize.curve_fit.html\n",
    "\n",
    "Note that fitting could be done using [`lmfit`](https://lmfit.github.io/lmfit-py/) or [`bumps`](http://bumps.readthedocs.io/en/latest/) instead of `scipy.optimize.curve_fit` (see <a href='#simple_fit_lmfit'>Example using lmfit</a>). "
   ]
  },
  {
   "cell_type": "code",
   "execution_count": 3,
   "metadata": {},
   "outputs": [
    {
     "data": {
      "image/png": "[encoded data removed]",
      "text/plain": [
       "<matplotlib.figure.Figure at 0x10f631250>"
      ]
     },
     "metadata": {},
     "output_type": "display_data"
    }
   ],
   "source": [
    "# Creation of reference data\n",
    "lorentzian_noisy = QENSmodels.lorentzian(xx, 0.89, -0.025, 0.45)*(1+0.1*np.random.normal(0,1,100)) + 0.01*np.random.normal(0,1,100)\n",
    " \n",
    "plt.plot(xx, lorentzian_noisy, label='reference data')\n",
    "\n",
    "plt.xlabel('x')\n",
    "plt.grid()\n",
    "plt.legend()\n",
    "plt.show()"
   ]
  },
  {
   "cell_type": "code",
   "execution_count": 4,
   "metadata": {},
   "outputs": [
    {
     "name": "stdout",
     "output_type": "stream",
     "text": [
      "Values of refined parameters:\n",
      "ScaleFactor: 0.946995289183 +/- 0.00847548281072\n",
      "PeakCentre : -0.0112986128289 +/- 0.00160018743658\n",
      "FWHM 0.411269753942 +/- 0.00615051024485\n"
     ]
    }
   ],
   "source": [
    "# From https://docs.scipy.org/doc/scipy/reference/generated/scipy.optimize.curve_fit.html\n",
    "# perform fit with initial guesses ScaleFactor=1, PeakCentre=0 FWHM=0.5\n",
    "\n",
    "popt, pcov = curve_fit(QENSmodels.lorentzian, xx, lorentzian_noisy, p0=[1, 0, 0.5])\n",
    "\n",
    "# Calculation of the errors on the refined parameters:\n",
    "\n",
    "perr = np.sqrt(np.diag(pcov))\n",
    "\n",
    "print 'Values of refined parameters:'\n",
    "print 'ScaleFactor:', popt[0],'+/-', perr[0]\n",
    "print 'PeakCentre :', popt[1],'+/-', perr[1]\n",
    "print 'FWHM', popt[2],'+/-', perr[2]"
   ]
  },
  {
   "cell_type": "code",
   "execution_count": 5,
   "metadata": {},
   "outputs": [
    {
     "data": {
      "image/png": "[encoded data removed]",
      "text/plain": [
       "<matplotlib.figure.Figure at 0x10f653790>"
      ]
     },
     "metadata": {},
     "output_type": "display_data"
    }
   ],
   "source": [
    "# Comparison of reference data with fitting result\n",
    "plt.plot(xx, lorentzian_noisy, 'b-', label='reference data')\n",
    "plt.plot(xx, QENSmodels.lorentzian(xx, *popt), 'g--', label='fit: %5.3f, %5.3f, %5.3f' % tuple(popt))\n",
    "plt.legend()\n",
    "plt.xlabel('x')\n",
    "plt.grid()\n",
    "plt.show()"
   ]
  },
  {
   "cell_type": "markdown",
   "metadata": {},
   "source": [
    "(<a href='#Table of Contents'>Top</a>)<a id='simple_fit_lmfit'></a><h2>Example: simple fit  using lmfit</h2>\n",
    "\n",
    "The following example uses the same data as in the main part of the document but the fitting is performed with [`lmfit`](https://lmfit.github.io/lmfit-py/) instead of `scipy.optimize.curve_fit`."
   ]
  },
  {
   "cell_type": "code",
   "execution_count": 6,
   "metadata": {},
   "outputs": [
    {
     "name": "stdout",
     "output_type": "stream",
     "text": [
      "Names of parameters: ['scale_factor', 'peak_centre', 'fwhm']\n",
      "Independent variable(s): ['x']\n",
      "Result of fit:\n",
      "[[Model]]\n",
      "    Model(lorentzian)\n",
      "[[Fit Statistics]]\n",
      "    # function evals   = 23\n",
      "    # data points      = 100\n",
      "    # variables        = 3\n",
      "    chi-square         = 0.053\n",
      "    reduced chi-square = 0.001\n",
      "    Akaike info crit   = -748.417\n",
      "    Bayesian info crit = -740.601\n",
      "[[Variables]]\n",
      "    scale_factor:   0.89816975 +/- 0.012253 (1.36%) (init= 1)\n",
      "    peak_centre:   -0.04358738 +/- 0.002965 (6.80%) (init= 0)\n",
      "    fwhm:           0.43403904 +/- 0.008366 (1.93%) (init= 0.5)\n",
      "[[Correlations]] (unreported correlations are <  0.100)\n",
      "    C(scale_factor, fwhm)        =  0.707 \n",
      "\n"
     ]
    },
    {
     "data": {
      "text/plain": [
       "(<matplotlib.figure.Figure at 0x111bb1a10>,\n",
       " <matplotlib.gridspec.GridSpec at 0x111bd8190>)"
      ]
     },
     "execution_count": 6,
     "metadata": {},
     "output_type": "execute_result"
    },
    {
     "data": {
      "image/png": "[encoded data removed]",
      "text/plain": [
       "<matplotlib.figure.Figure at 0x111bb1a10>"
      ]
     },
     "metadata": {},
     "output_type": "display_data"
    }
   ],
   "source": [
    "from lmfit import Model\n",
    "import matplotlib.pyplot as plt\n",
    "%matplotlib inline\n",
    "\n",
    "gmodel = Model(QENSmodels.lorentzian)\n",
    "print 'Names of parameters:', gmodel.param_names \n",
    "print 'Independent variable(s):', gmodel.independent_vars \n",
    "\n",
    "# Create array of reference data\n",
    "xx = np.linspace(-5,5,100)\n",
    "lorentzian_noisy = QENSmodels.lorentzian(xx, 0.89, -0.025, 0.45)*(1+0.1*np.random.normal(0,1,100)) + 0.01*np.random.normal(0,1,100)\n",
    "\n",
    "# Fit\n",
    "result = gmodel.fit(lorentzian_noisy, x=xx, scale_factor=1, peak_centre=0, fwhm=0.5)\n",
    "\n",
    "# display result\n",
    "print'Result of fit:\\n',result.fit_report()\n",
    "\n",
    "# plot\n",
    "result.plot()"
   ]
  },
  {
   "cell_type": "markdown",
   "metadata": {},
   "source": [
    "(<a href='#Table of Contents'>Top</a>)<a id='example_2lorentizans_resolution'></a><h2>Example: fit using two lorentzians convoluted with the instrument resolution and lmfit as the fitting engine</h2>\n",
    "\n",
    "The following example uses the data from IRIS:\n",
    "- workspace_index=0, file: `irs26176_graphite002_red.nxs` \n",
    "- related instrument resolution data `irs26173_graphite002_res.nxs` \n",
    "\n",
    "The ISIS sample datasets can be downloaded from [Mantid's website](http://download.mantidproject.org/).\n",
    "The data used for this example are in the sample datafile: `data_2lorentzians.dat` and the instrument resolution datafile `irf_iris.dat`, respectively.\n",
    "\n",
    "This example is based on a [Mantid \"Fitting QENS Peaks\" tutorial](https://www.mantidproject.org/Fitting_QENS_Peaks).\n",
    "\n",
    "The implementation with `lmfit` is based on https://lmfit.github.io/lmfit-py/model.html\n",
    "\n",
    "This example requires an additional Python module `scipy.interpolate` to interpolate the tabulated data of the instrument resolution"
   ]
  },
  {
   "cell_type": "code",
   "execution_count": null,
   "metadata": {},
   "outputs": [],
   "source": [
    "from lmfit import Model, CompositeModel\n",
    "from scipy.interpolate import interp1d\n",
    "\n",
    "# Create model - 2 lorentzians convoluted with instrument resolution - 6 parameters\n",
    "# Step 1 load instrument resolution data\n",
    "irf_iris = np.loadtxt('irf_iris.dat')\n",
    "x_irf = irf_iris[:, 0]\n",
    "y_irf = irf_iris[:, 1]\n",
    "\n",
    "# Step 2: create function for instrument resolution data (cubic interpolation between tabulated data points)\n",
    "f = interp1d(x_irf, y_irf, kind='cubic', bounds_error=False, fill_value='extrapolate')\n",
    "\n",
    "# plot tabulated data and interpolated data\n",
    "xx = np.linspace(-.25, .25, 500)\n",
    "plt.plot(x_irf, y_irf, 'b.', label='tabulated data')\n",
    "plt.plot(xx, f(xx), 'g--', label='extrapolated data')\n",
    "\n",
    "plt.legend()\n",
    "plt.xlabel('x')\n",
    "plt.title('Instrument resolution: plot tabulated data and interpolated data')\n",
    "plt.grid()\n",
    "plt.show()\n",
    "\n",
    "# Step 3: create \"double lorentzian\" profile\n",
    "def model_2lorentzians(x, amp1, centre1, fwhm1, amp2, centre2, fwhm2):\n",
    "    return QENSmodels.lorentzian(x, amp1, centre1, fwhm1) + QENSmodels.lorentzian(x, amp2, centre2, fwhm2)\n",
    "\n",
    "# Step 4: create convolution function \n",
    "# (code from https://lmfit.github.io/lmfit-py/model.html)\n",
    "def convolve(arr, kernel):\n",
    "    # simple convolution of two arrays\n",
    "    npts = min(len(arr), len(kernel))\n",
    "    pad  = np.ones(npts)\n",
    "    tmp  = np.concatenate((pad*arr[0], arr, pad*arr[-1]))\n",
    "    \n",
    "    out  = np.convolve(tmp, kernel, mode='valid')\n",
    "    noff = int((len(out) - npts)/2)\n",
    "    return out[noff:noff+npts]\n",
    "\n",
    "# Create model for the fit\n",
    "gmodel = CompositeModel(Model(irf_gate), Model(model_2lorentzians), convolve) \n",
    "\n",
    "print 'Names of parameters:', gmodel.param_names \n",
    "print 'Independent variable(s):', gmodel.independent_vars \n",
    "\n",
    "# Load reference data - extract x and y values\n",
    "two_lorentzians_iris = np.loadtxt('data_2lorentzians.dat')\n",
    "xx = two_lorentzians_iris[:, 0]\n",
    "yy = two_lorentzians_iris[:, 1]\n",
    "\n",
    "# Fit\n",
    "result = gmodel.fit(yy, x=xx, amp1=1, centre1=0, fwhm1=0.5, amp2=1, centre2=1, fwhm2=0.5)\n",
    "\n",
    "# display result\n",
    "print'Result of fit:\\n', result.fit_report()\n",
    "\n",
    "# plot selected results: experimental data and best fit\n",
    "plt.plot(xx, yy, '+', label='experimental data')\n",
    "\n",
    "plt.plot(xx, result.best_fit, 'r-', label='best fit')\n",
    "plt.grid()\n",
    "plt.xlabel('x')\n",
    "plt.title('Plot selected fitting results: experimental data and best fit')\n",
    "plt.legend()\n",
    "plt.show()\n",
    "\n",
    "# plot result\n",
    "result.plot()"
   ]
  },
  {
   "cell_type": "code",
   "execution_count": null,
   "metadata": {},
   "outputs": [],
   "source": []
  },
  {
   "cell_type": "code",
   "execution_count": null,
   "metadata": {},
   "outputs": [],
   "source": []
  }
 ],
 "metadata": {
  "kernelspec": {
   "display_name": "Python 2",
   "language": "python",
   "name": "python2"
  },
  "language_info": {
   "codemirror_mode": {
    "name": "ipython",
    "version": 2
   },
   "file_extension": ".py",
   "mimetype": "text/x-python",
   "name": "python",
   "nbconvert_exporter": "python",
   "pygments_lexer": "ipython2",
   "version": "2.7.13"
  }
 },
 "nbformat": 4,
 "nbformat_minor": 2
}
