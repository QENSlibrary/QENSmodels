{
 "cells": [
  {
   "cell_type": "markdown",
   "metadata": {},
   "source": [
    "<a id='Table of Contents'></a><h1>Table of Contents</h1>\n",
    "\n",
    "- <a href='#introduction'>Introduction</a> \n",
    "- <a href='#imports'>Import and install required libraries</a>  \n",
    "- <a href='#set_fitting'>Setting of fitting</a>  \n",
    "- <a href='#run_fit'>Running the fit</a>  \n",
    "- <a href='#results'>Showing the results</a> "
   ]
  },
  {
   "cell_type": "markdown",
   "metadata": {},
   "source": [
    "(<a href='#Table of Contents'>Top</a>)<a id='introduction'></a><h2>Introduction</h2>\n",
    "\n",
    "<div class=\"alert alert-block alert-info\">\n",
    "The objective of this notebook is to show how to use the isotropic rotational diffusion model `IsotropicRotationalDiffusion`.\n",
    "</div>\n",
    "\n",
    "The **reference data** were generated using the above model with the following parameters:  \n",
    "- Radius = 1.10 Angstrom \n",
    "- D_rot = 0.125 meV\n",
    "\n",
    "The model was convoluted with a Gaussian resolution function \n",
    "of FWHM = 0.1 meV, centered randomly in the range \\[-0.01, +0.01\\] meV.\n",
    "\n",
    "Finally the data were sampled randomly from a Poisson distribution.\n",
    "\n",
    "There is no background."
   ]
  },
  {
   "cell_type": "markdown",
   "metadata": {},
   "source": [
    "(<a href='#Table of Contents'>Top</a>)<a id='imports'></a><h2> Import python modules for plotting, fitting... </h2>"
   ]
  },
  {
   "cell_type": "code",
   "execution_count": 1,
   "metadata": {},
   "outputs": [],
   "source": [
    "# Imported required libraries\n",
    "from __future__ import print_function\n",
    "import sys\n",
    "import os\n",
    "\n",
    "import ipywidgets\n",
    "\n",
    "import matplotlib.pyplot as plt\n",
    "%matplotlib inline"
   ]
  },
  {
   "cell_type": "code",
   "execution_count": 2,
   "metadata": {},
   "outputs": [],
   "source": [
    "# install bumps (if not already installed)\n",
    "import pkgutil\n",
    "if not pkgutil.find_loader(\"bumps\"):\n",
    "    !{sys.executable} -m pip install bumps"
   ]
  },
  {
   "cell_type": "markdown",
   "metadata": {},
   "source": [
    " (<a href='#Table of Contents'>Top</a>)<a id='set_fitting'></a><h2>Setting of fitting </h2>\n",
    "<h3> load data, prepare data, create fitting model and set initial guesses </h3>\n",
    "\n",
    "These settings are saved in a Python script, which will be used by Bumps to run the fit."
   ]
  },
  {
   "cell_type": "code",
   "execution_count": 3,
   "metadata": {},
   "outputs": [],
   "source": [
    "# Name of Python script containing the model\n",
    "model_file = \"model_fit_IsoRot.py\""
   ]
  },
  {
   "cell_type": "code",
   "execution_count": 4,
   "metadata": {},
   "outputs": [
    {
     "name": "stdout",
     "output_type": "stream",
     "text": [
      "Writing model_fit_IsoRot.py\n"
     ]
    }
   ],
   "source": [
    "%%writefile $model_file\n",
    "import h5py\n",
    "import QENSmodels\n",
    "import numpy as np\n",
    "from scipy.integrate import simps\n",
    "from bumps.names import *\n",
    "\n",
    "path_to_data = './data/'\n",
    "\n",
    "# Read the sample\n",
    "f = h5py.File(path_to_data + 'IsoRot_Sample.hdf', 'r')\n",
    "hw = f['entry1']['data1']['X'][:]\n",
    "q = f['entry1']['data1']['Y'][:]\n",
    "sqw = np.transpose(f['entry1']['data1']['DATA'][:])\n",
    "err = np.transpose(f['entry1']['data1']['errors'][:])\n",
    "f.close()\n",
    "\n",
    "# Read resolution\n",
    "f = h5py.File(path_to_data + 'IsoRot_Resol.hdf', 'r')\n",
    "res = np.transpose(f['entry1']['data1']['DATA'][:])\n",
    "f.close()\n",
    "\n",
    "# Force resolution function to have unit area\n",
    "for i in range(len(q)):\n",
    "    area = simps(res[:,i], hw)\n",
    "    res[:,i] /= area   \n",
    "\n",
    "# Fitting model \n",
    "def model_convol(x, q, scale=1, center=0, radius=1, DR=1, resolution=None):\n",
    "    model = QENSmodels.sqwIsotropicRotationalDiffusion(x, q, scale, center, radius, DR)\n",
    "    return np.convolve(model, resolution/resolution.sum(), mode='same')\n",
    "\n",
    "# Fit\n",
    "M = []\n",
    "\n",
    "# First dataset: wavelength=5 Angstrom \n",
    "for i in range(len(q)):\n",
    "\n",
    "    # Bumps fitting model\n",
    "    Mq = Curve(model_convol, hw, sqw[:,i], err[:,i], q=q[i],          \n",
    "               scale=1000, center=0.0, radius=1.0, DR=0.1, resolution=res[:, i])\n",
    "    Mq.scale.range(0, 1e5)\n",
    "    Mq.center.range(-0.1, 0.1)\n",
    "    Mq.radius.range(0, 3)\n",
    "    Mq.DR.range(0, 2)\n",
    "    \n",
    "    # Q-independent parameters\n",
    "    if i == 0:\n",
    "        QR = Mq.radius\n",
    "        QDR = Mq.DR\n",
    "    else:\n",
    "        Mq.radius = QR\n",
    "        Mq.DR = QDR\n",
    "    M.append(Mq)\n",
    "        \n",
    "problem = FitProblem(M)"
   ]
  },
  {
   "cell_type": "markdown",
   "metadata": {},
   "source": [
    "<h3> Choice of minimizer for bumps </h3>"
   ]
  },
  {
   "cell_type": "code",
   "execution_count": 5,
   "metadata": {},
   "outputs": [
    {
     "data": {
      "application/vnd.jupyter.widget-view+json": {
       "model_id": "6395aaae6851438db7985c3676906c06",
       "version_major": 2,
       "version_minor": 0
      },
      "text/plain": [
       "RHJvcGRvd24oZGVzY3JpcHRpb249dSdNaW5pbWl6ZXI6JywgaW5kZXg9NCwgb3B0aW9ucz17J1F1YXNpLU5ld3RvbiBCRkdTJzogJ25ld3RvbicsICdSYW5kb20gTGluZXMgKGV4cGVyaW1lbnTigKY=\n"
      ]
     },
     "metadata": {},
     "output_type": "display_data"
    }
   ],
   "source": [
    "w_choice_minimizer = ipywidgets.widgets.Dropdown(\n",
    "    options={'Levenberg-Marquardt': \"lm\", \n",
    "             'Nelder-Mead Simplex': \"amoeba\", \n",
    "             'DREAM': \"dream\", \n",
    "             'Differential Evolution': \"de\", \n",
    "             'Quasi-Newton BFGS': \"newton\", \n",
    "             'Random Lines (experimental)': \"rl\", \n",
    "             'Particle Swarm (experimental)': \"ps\", \n",
    "             'Parallel Tempering (experimental)': \"pt\"},\n",
    "    value=\"lm\",\n",
    "    description='Minimizer:',)\n",
    "\n",
    "display(w_choice_minimizer)"
   ]
  },
  {
   "cell_type": "markdown",
   "metadata": {},
   "source": [
    "<h3> Setting for running bumps </h3>"
   ]
  },
  {
   "cell_type": "code",
   "execution_count": 6,
   "metadata": {},
   "outputs": [],
   "source": [
    "# CHOICE OF MINIMIZER\n",
    "minimiser = w_choice_minimizer.value\n",
    "\n",
    "# NUMBER OF STEPS WHEN RUNNING THE FIT\n",
    "steps = 100\n",
    "\n",
    "# output folder to save thre results\n",
    "output_folder = 'QENS'"
   ]
  },
  {
   "cell_type": "markdown",
   "metadata": {},
   "source": [
    "(<a href='#Table of Contents'>Top</a>)<a id='run_fit'></a><h2>Running the fit</h2>\n",
    "\n",
    "Run the fit using the *minimizer* defined above with a number of *steps* also specified above\n",
    "The subfolder *output_folder* contains different results: plots and \n",
    "refined parameters"
   ]
  },
  {
   "cell_type": "code",
   "execution_count": null,
   "metadata": {},
   "outputs": [
    {
     "name": "stdout",
     "output_type": "stream",
     "text": [
      "# /Users/celinedurniak/anaconda/envs/mynewenv/lib/python2.7/site-packages/bumps/cli.py model_fit_IsoRot.py --fit=lm --steps=100 --store=QENS\n",
      "-- Model 0 \n",
      ".DR = 0.1 in [0,2]\n",
      ".center = 0 in [-0.1,0.1]\n",
      ".q = 0.2\n",
      ".radius = 1 in [0,3]\n",
      ".scale = 1000 in [0,100000]\n",
      "\n",
      "[chisq=1860.223(12), nllf=372975]\n",
      "-- Model 1 \n",
      ".DR = 0.1 in [0,2]\n",
      ".center = 0 in [-0.1,0.1]\n",
      ".q = 0.4\n",
      ".radius = 1 in [0,3]\n",
      ".scale = 1000 in [0,100000]\n",
      "\n",
      "[chisq=1766.934(12), nllf=354270]\n",
      "-- Model 2 \n",
      ".DR = 0.1 in [0,2]\n",
      ".center = 0 in [-0.1,0.1]\n",
      ".q = 0.6\n",
      ".radius = 1 in [0,3]\n",
      ".scale = 1000 in [0,100000]\n",
      "\n",
      "[chisq=1602.580(12), nllf=321317]\n",
      "-- Model 3 \n",
      ".DR = 0.1 in [0,2]\n",
      ".center = 0 in [-0.1,0.1]\n",
      ".q = 0.8\n",
      ".radius = 1 in [0,3]\n",
      ".scale = 1000 in [0,100000]\n",
      "\n",
      "[chisq=1431.498(12), nllf=287015]\n",
      "-- Model 4 \n",
      ".DR = 0.1 in [0,2]\n",
      ".center = 0 in [-0.1,0.1]\n",
      ".q = 1\n",
      ".radius = 1 in [0,3]\n",
      ".scale = 1000 in [0,100000]\n",
      "\n",
      "[chisq=1215.738(12), nllf=243756]\n",
      "-- Model 5 \n",
      ".DR = 0.1 in [0,2]\n",
      ".center = 0 in [-0.1,0.1]\n",
      ".q = 1.2\n",
      ".radius = 1 in [0,3]\n",
      ".scale = 1000 in [0,100000]\n",
      "\n",
      "[chisq=973.964(12), nllf=195280]\n",
      "-- Model 6 \n",
      ".DR = 0.1 in [0,2]\n",
      ".center = 0 in [-0.1,0.1]\n",
      ".q = 1.4\n",
      ".radius = 1 in [0,3]\n",
      ".scale = 1000 in [0,100000]\n",
      "\n",
      "[chisq=738.289(12), nllf=148027]\n",
      "-- Model 7 \n",
      ".DR = 0.1 in [0,2]\n",
      ".center = 0 in [-0.1,0.1]\n",
      ".q = 1.6\n",
      ".radius = 1 in [0,3]\n",
      ".scale = 1000 in [0,100000]\n",
      "\n",
      "[chisq=520.184(12), nllf=104297]\n",
      "-- Model 8 \n",
      ".DR = 0.1 in [0,2]\n",
      ".center = 0 in [-0.1,0.1]\n",
      ".q = 1.8\n",
      ".radius = 1 in [0,3]\n",
      ".scale = 1000 in [0,100000]\n",
      "\n",
      "[chisq=328.944(12), nllf=65953.2]\n",
      "-- Model 9 \n",
      ".DR = 0.1 in [0,2]\n",
      ".center = 0 in [-0.1,0.1]\n",
      ".q = 2\n",
      ".radius = 1 in [0,3]\n",
      ".scale = 1000 in [0,100000]\n",
      "\n",
      "[chisq=173.664(12), nllf=34819.6]\n",
      "[overall chisq=1067.0559(62), nllf=2.12771e+06]\n"
     ]
    }
   ],
   "source": [
    "%run -m bumps.cli $model_file --fit=$minimiser --steps=$steps --store=$output_folder"
   ]
  },
  {
   "cell_type": "markdown",
   "metadata": {},
   "source": [
    "(<a href='#Table of Contents'>Top</a>)<a id='results'></a><h2>Showing the results </h2>"
   ]
  },
  {
   "cell_type": "code",
   "execution_count": null,
   "metadata": {},
   "outputs": [],
   "source": [
    "# DISPLAY SOME RESULTS (Bumps output)\n",
    "par_file = os.path.splitext(model_file)[0] + '.par'\n",
    "err_file = os.path.splitext(model_file)[0] + '.err'\n",
    "\n",
    "with open(os.path.join('.', output_folder, par_file), 'r') as fid:\n",
    "    for line in fid:\n",
    "        parameter, value = line.split()\n",
    "        print(parameter, value)\n",
    "        \n",
    "with open(os.path.join(os.getcwd(), output_folder, err_file), 'r') as ferr:\n",
    "    for line in ferr:\n",
    "        print(line.rsplit('\\n')[0])"
   ]
  },
  {
   "cell_type": "code",
   "execution_count": null,
   "metadata": {},
   "outputs": [],
   "source": [
    "# Plot the fitting results\n",
    "\n",
    "from IPython.display import display, Image\n",
    "relative_output_path = os.path.join('.', output_folder)\n",
    "names = [f for f in os.listdir(relative_output_path) if f.endswith('.png')]\n",
    "\n",
    "for name in names:\n",
    "    display(Image(os.path.join(relative_output_path, name)))"
   ]
  },
  {
   "cell_type": "code",
   "execution_count": null,
   "metadata": {},
   "outputs": [],
   "source": []
  }
 ],
 "metadata": {
  "kernelspec": {
   "display_name": "Python 2",
   "language": "python",
   "name": "python2"
  },
  "language_info": {
   "codemirror_mode": {
    "name": "ipython",
    "version": 2
   },
   "file_extension": ".py",
   "mimetype": "text/x-python",
   "name": "python",
   "nbconvert_exporter": "python",
   "pygments_lexer": "ipython2",
   "version": "2.7.15"
  },
  "toc": {
   "base_numbering": 1,
   "nav_menu": {},
   "number_sections": true,
   "sideBar": true,
   "skip_h1_title": false,
   "title_cell": "Table of Contents",
   "title_sidebar": "Contents",
   "toc_cell": false,
   "toc_position": {},
   "toc_section_display": true,
   "toc_window_display": false
  }
 },
 "nbformat": 4,
 "nbformat_minor": 2
}
