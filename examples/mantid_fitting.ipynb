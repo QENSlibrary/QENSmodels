{
 "cells": [
  {
   "cell_type": "markdown",
   "metadata": {},
   "source": [
    "**Testing fitting with Mantid.**\n",
    "\n",
    "For this notebook to work do:\n",
    "\n",
    "* Install a night build of Mantid dating from 31st May 2018 onwards or a Mantid release released after this date\n",
    "* On Windows from a command prompt type: c:/MantidInstall/bin/mantidpython.bat notebook\n",
    "\n",
    "For more info on working with IPython/Jupyter and Mantid see also: http://www.mantidproject.org/Using_IPython_Notebook\n"
   ]
  },
  {
   "cell_type": "markdown",
   "metadata": {},
   "source": [
    "**Setup Mantid**"
   ]
  },
  {
   "cell_type": "code",
   "execution_count": 1,
   "metadata": {
    "collapsed": true
   },
   "outputs": [],
   "source": [
    "import sys\n",
    "import os\n",
    "\n",
    "#Tell python where Mantid is installed.\n",
    "#The official packages put this information in an environment variable called \"MANTIDPATH\"\n",
    "sys.path.append(os.environ['MANTIDPATH'])\n",
    "\n",
    "#We can now import Mantid's Python API\n",
    "from mantid.simpleapi import *"
   ]
  },
  {
   "cell_type": "markdown",
   "metadata": {},
   "source": [
    "**Setup matplotlib and numpy**"
   ]
  },
  {
   "cell_type": "code",
   "execution_count": 2,
   "metadata": {
    "collapsed": true
   },
   "outputs": [],
   "source": [
    "import matplotlib.pyplot as plt\n",
    "import numpy as np\n",
    "\n",
    "#Some magic to tell matplotlib how to behave in IPython Notebook\n",
    "%matplotlib inline"
   ]
  },
  {
   "cell_type": "markdown",
   "metadata": {},
   "source": [
    "**Simple demo using in build Mantid fitting function example**"
   ]
  },
  {
   "cell_type": "code",
   "execution_count": 3,
   "metadata": {
    "collapsed": false
   },
   "outputs": [],
   "source": [
    "my_func = Lorentzian(Amplitude=1.0, FWHM=1.0, PeakCentre = 0.0)"
   ]
  },
  {
   "cell_type": "code",
   "execution_count": 4,
   "metadata": {
    "collapsed": false
   },
   "outputs": [
    {
     "data": {
      "text/plain": [
       "array([[ 0.63661977,  0.12732395],\n",
       "       [ 0.03744822,  0.01720594]])"
      ]
     },
     "execution_count": 4,
     "metadata": {},
     "output_type": "execute_result"
    }
   ],
   "source": [
    "my_array = np.array([[0, 1],[2, 3]])\n",
    "my_func(my_array)"
   ]
  },
  {
   "cell_type": "code",
   "execution_count": 5,
   "metadata": {
    "collapsed": false
   },
   "outputs": [
    {
     "data": {
      "text/plain": [
       "0.12732395447351627"
      ]
     },
     "execution_count": 5,
     "metadata": {},
     "output_type": "execute_result"
    }
   ],
   "source": [
    "my_func(1.0)"
   ]
  },
  {
   "cell_type": "code",
   "execution_count": 6,
   "metadata": {
    "collapsed": false
   },
   "outputs": [
    {
     "name": "stdout",
     "output_type": "stream",
     "text": [
      "[ 0.31830989  0.06366198  0.02448538  0.0127324   0.00776366  0.00521819\n",
      "  0.00374482]\n"
     ]
    }
   ],
   "source": [
    "ws = CreateWorkspace(DataX=[0,1,2,3,4,5,6,7], DataY=[5,5,5,5,5,5,5])\n",
    "print(my_func(ws).readY(1))"
   ]
  },
  {
   "cell_type": "markdown",
   "metadata": {},
   "source": [
    "**Simple demo with custom creating custom fit function**"
   ]
  },
  {
   "cell_type": "code",
   "execution_count": 8,
   "metadata": {
    "collapsed": false
   },
   "outputs": [
    {
     "data": {
      "text/plain": [
       "2.0"
      ]
     },
     "execution_count": 8,
     "metadata": {},
     "output_type": "execute_result"
    }
   ],
   "source": [
    "class MyScaleFunction(IFunction1D):\n",
    "\n",
    "    def init(self):\n",
    "        self.declareParameter(\"C\", 2.0)\n",
    "\n",
    "    def function1D(self, xvals):\n",
    "        # Access current values during the fit\n",
    "        c = self.getParameterValue(\"C\")\n",
    "\n",
    "        return c*np.sqrt(xvals)\n",
    "\n",
    "FunctionFactory.subscribe(MyScaleFunction)\n",
    "\n",
    "my_func = MyScaleFunction()\n",
    "\n",
    "my_func(1.0)"
   ]
  },
  {
   "cell_type": "markdown",
   "metadata": {
    "collapsed": true
   },
   "source": [
    "**Alternative you can use the build in UserFunction as follows.**\n",
    "\n",
    "Executation may be slower than using any of the above two approaches"
   ]
  },
  {
   "cell_type": "code",
   "execution_count": 9,
   "metadata": {
    "collapsed": false
   },
   "outputs": [
    {
     "data": {
      "text/plain": [
       "1.682941969615793"
      ]
     },
     "execution_count": 9,
     "metadata": {},
     "output_type": "execute_result"
    }
   ],
   "source": [
    "my_func = UserFunction(Formula = 'h*sin(a*x)', h=2, a=1)\n",
    "\n",
    "my_func(1.0)"
   ]
  },
  {
   "cell_type": "code",
   "execution_count": null,
   "metadata": {
    "collapsed": true
   },
   "outputs": [],
   "source": []
  }
 ],
 "metadata": {
  "kernelspec": {
   "display_name": "Python 2",
   "language": "python",
   "name": "python2"
  },
  "language_info": {
   "codemirror_mode": {
    "name": "ipython",
    "version": 2
   },
   "file_extension": ".py",
   "mimetype": "text/x-python",
   "name": "python",
   "nbconvert_exporter": "python",
   "pygments_lexer": "ipython2",
   "version": "2.7.10"
  }
 },
 "nbformat": 4,
 "nbformat_minor": 0
}
