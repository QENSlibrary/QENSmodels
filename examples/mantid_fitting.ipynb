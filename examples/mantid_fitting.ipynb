{
 "cells": [
  {
   "cell_type": "markdown",
   "metadata": {},
   "source": [
    "To get IPython/Jupyter to work with Mantid: http://www.mantidproject.org/Using_IPython_Notebook\n",
    "\n",
    "**In particult**\n",
    "Start up Jupyter on e.g. Windows with c:/MantidInstall/bin/mantidpython.bat notebook"
   ]
  },
  {
   "cell_type": "markdown",
   "metadata": {},
   "source": [
    "Setup Mantid"
   ]
  },
  {
   "cell_type": "code",
   "execution_count": 2,
   "metadata": {
    "collapsed": true
   },
   "outputs": [],
   "source": [
    "import sys\n",
    "import os\n",
    "\n",
    "#Tell python where Mantid is installed.\n",
    "#The official packages put this information in an environment variable called \"MANTIDPATH\"\n",
    "sys.path.append(os.environ['MANTIDPATH'])\n",
    "\n",
    "#We can now import Mantid's Python API\n",
    "from mantid.simpleapi import *"
   ]
  },
  {
   "cell_type": "markdown",
   "metadata": {},
   "source": [
    "Setup matplotlib and numpy"
   ]
  },
  {
   "cell_type": "code",
   "execution_count": 3,
   "metadata": {
    "collapsed": true
   },
   "outputs": [],
   "source": [
    "import matplotlib.pyplot as plt\n",
    "import numpy as np\n",
    "\n",
    "#Some magic to tell matplotlib how to behave in IPython Notebook\n",
    "%matplotlib inline"
   ]
  },
  {
   "cell_type": "markdown",
   "metadata": {},
   "source": [
    "Simple demo example with Lorentzian"
   ]
  },
  {
   "cell_type": "code",
   "execution_count": 4,
   "metadata": {
    "collapsed": false
   },
   "outputs": [
    {
     "data": {
      "text/plain": [
       "<mantid.fitfunctions.FunctionWrapper at 0x1ec40390>"
      ]
     },
     "execution_count": 4,
     "metadata": {},
     "output_type": "execute_result"
    }
   ],
   "source": [
    "my_func = Lorentzian(Amplitude=1.0, FWHM=1.0, PeakCentre = 0.0)"
   ]
  },
  {
   "cell_type": "code",
   "execution_count": 5,
   "metadata": {
    "collapsed": false
   },
   "outputs": [
    {
     "data": {
      "text/plain": [
       "array([[ 0.63661977,  0.12732395],\n",
       "       [ 0.03744822,  0.01720594]])"
      ]
     },
     "execution_count": 5,
     "metadata": {},
     "output_type": "execute_result"
    }
   ],
   "source": [
    "my_array = np.array([[0, 1],[2, 3]])\n",
    "my_func(my_array)"
   ]
  },
  {
   "cell_type": "code",
   "execution_count": 6,
   "metadata": {
    "collapsed": false
   },
   "outputs": [
    {
     "data": {
      "text/plain": [
       "0.12732395447351627"
      ]
     },
     "execution_count": 6,
     "metadata": {},
     "output_type": "execute_result"
    }
   ],
   "source": [
    "my_func(1.0)"
   ]
  },
  {
   "cell_type": "code",
   "execution_count": 7,
   "metadata": {
    "collapsed": false
   },
   "outputs": [
    {
     "name": "stdout",
     "output_type": "stream",
     "text": [
      "[ 0.31830989  0.06366198  0.02448538  0.0127324   0.00776366  0.00521819\n",
      "  0.00374482]\n"
     ]
    }
   ],
   "source": [
    "ws = CreateWorkspace(DataX=[0,1,2,3,4,5,6,7], DataY=[5,5,5,5,5,5,5])\n",
    "print(my_func(ws).readY(1))"
   ]
  },
  {
   "cell_type": "markdown",
   "metadata": {},
   "source": [
    "Demo with custom function"
   ]
  },
  {
   "cell_type": "code",
   "execution_count": 8,
   "metadata": {
    "collapsed": false
   },
   "outputs": [],
   "source": [
    "from mantid.api import *\n",
    "import numpy\n",
    "\n",
    "class MyScaleFunction(IFunction1D):\n",
    "\n",
    "    def init(self):\n",
    "        self.declareParameter(\"C\", 2.0)\n",
    "\n",
    "    def function1D(self, xvals):\n",
    "        # Access current values during the fit\n",
    "        c = self.getParameterValue(\"C\")\n",
    "\n",
    "        return c*numpy.sqrt(xvals)\n",
    "\n",
    "FunctionFactory.subscribe(MyScaleFunction)"
   ]
  },
  {
   "cell_type": "code",
   "execution_count": 9,
   "metadata": {
    "collapsed": false
   },
   "outputs": [
    {
     "name": "stdout",
     "output_type": "stream",
     "text": [
      "Type of my_func: <class '__main__.MyScaleFunction'>\n"
     ]
    }
   ],
   "source": [
    "my_func = MyScaleFunction()\n",
    "\n",
    "# Wrong: Does not print out that funciton is class 'mantid.fitfunctions.FunctionWrapper'\n",
    "print('Type of my_func: {0}'.format(type(my_func)))"
   ]
  },
  {
   "cell_type": "markdown",
   "metadata": {},
   "source": [
    "**New function above gets OK registered with the Mantid property browser but currently does not become accessible for python scripting - the following Mantid issue will fix this: https://github.com/mantidproject/mantid/issues/22365** "
   ]
  },
  {
   "cell_type": "code",
   "execution_count": null,
   "metadata": {
    "collapsed": true
   },
   "outputs": [],
   "source": []
  }
 ],
 "metadata": {
  "kernelspec": {
   "display_name": "Python 2",
   "language": "python",
   "name": "python2"
  },
  "language_info": {
   "codemirror_mode": {
    "name": "ipython",
    "version": 2
   },
   "file_extension": ".py",
   "mimetype": "text/x-python",
   "name": "python",
   "nbconvert_exporter": "python",
   "pygments_lexer": "ipython2",
   "version": "2.7.10"
  }
 },
 "nbformat": 4,
 "nbformat_minor": 0
}
