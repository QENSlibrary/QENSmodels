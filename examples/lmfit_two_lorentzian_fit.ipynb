{
 "cells": [
  {
   "cell_type": "markdown",
   "metadata": {},
   "source": [
    "<div class=\"alert alert-warning\">\n",
    "    \n",
    "<b>Disclaimer:</b> The main objective of the <i>Jupyter</i> notebooks is to show how to use the models of the <i>QENS library</i> by\n",
    "    \n",
    "- building a fitting model: composition of models, convolution with a resolution function  \n",
    "- setting and run the fit  \n",
    "- extracting and displaying information about the results  \n",
    "\n",
    "These steps have a minimizer-dependent syntax. That's one of the reasons why different minimizers have been used in the notebooks provided as examples.  \n",
    "But, the initial guessed parameters might not be optimal, resulting in a poor fit of the reference data.\n",
    "</div> \n",
    "\n",
    "# Composition of two Lorentzians convoluted with a resolution function and fitted with lmfit\n",
    "\n",
    "## Table of Contents\n",
    "\n",
    "- [Introduction](#Introduction)\n",
    "- [Importing the required libraries](#Importing-the-required-libraries)\n",
    "- [Importing the reference data](#Importing-the-reference-data)\n",
    "- [Setting and fitting](#Setting-and-fitting)  \n",
    "- [Plotting the results](#Plotting-the-results)  "
   ]
  },
  {
   "cell_type": "markdown",
   "metadata": {},
   "source": [
    "[Top](#Table-of-Contents)\n",
    "\n",
    "## Introduction\n",
    "\n",
    "<div class=\"alert alert-info\">\n",
    "    \n",
    "The objective of this notebook is to show how to use one of the models of \n",
    "the <a href=\"https://github.com/QENSlibrary/QENSmodels\">QENSlibrary</a>, <b>Lorentzian</b>, to perform some fits.\n",
    "<a href=\"https://lmfit.github.io/lmfit-py/\">lmfit</a> is used for fitting.\n",
    "</div>\n",
    "\n",
    "The following example uses the data from IRIS:\n",
    "- workspace_index=0, file: `irs26176_graphite002_red.nxs`  \n",
    "- related instrument resolution data `irs26173_graphite002_res.nxs`   \n",
    "\n",
    "The ISIS sample datasets can be downloaded from [Mantid's website](http://download.mantidproject.org/).\n",
    "The data used for this example are in the sample datafile: `data_2lorentzians.dat` and the instrument resolution datafile `irf_iris.dat`, respectively.\n",
    "\n",
    "This example is based on a [Mantid \"Fitting QENS Peaks\" tutorial](https://www.mantidproject.org/Fitting_QENS_Peaks).\n",
    "\n",
    "The implementation with `lmfit` is based on https://lmfit.github.io/lmfit-py/model.html\n",
    "\n",
    "This example requires an additional Python module `scipy.interpolate` to interpolate the tabulated data of the instrument resolution.\n",
    "\n",
    "### Physical units\n",
    "For information about unit conversion, please refer to the jupyter notebook called `Convert_units.ipynb` in the `tools` folder.\n",
    "\n",
    "The dictionary of units defined in the cell below specify the units of the refined parameters adapted to the convention used in the experimental datafile."
   ]
  },
  {
   "cell_type": "code",
   "execution_count": 1,
   "metadata": {},
   "outputs": [],
   "source": [
    "# Units of parameters for selected QENS model and experimental data\n",
    "dict_physical_units = {'omega': \"meV\", \n",
    "                       'q': \"1/Angstrom\", \n",
    "                       'hwhm': \"meV\", \n",
    "                       'scale': \"unit_of_signal.meV\",\n",
    "                       'center': \"meV\"}"
   ]
  },
  {
   "cell_type": "markdown",
   "metadata": {},
   "source": [
    "[Top](#Table-of-Contents)\n",
    "\n",
    "## Importing the required librairies"
   ]
  },
  {
   "cell_type": "code",
   "execution_count": 2,
   "metadata": {},
   "outputs": [],
   "source": [
    "# import python modules for plotting, fitting\n",
    "from __future__ import print_function\n",
    "import numpy as np\n",
    "\n",
    "import matplotlib.pyplot as plt\n",
    "\n",
    "# for interactivity (plots, buttons...)\n",
    "import ipywidgets\n",
    "\n",
    "path_to_data = './data/'"
   ]
  },
  {
   "cell_type": "code",
   "execution_count": 3,
   "metadata": {},
   "outputs": [],
   "source": [
    "# install QENSmodels (if not already installed)\n",
    "import pkgutil\n",
    "import sys\n",
    "\n",
    "if not pkgutil.find_loader(\"QENSmodels\"):\n",
    "    buttonY = ipywidgets.Button(description='Yes', button_style='success')\n",
    "    buttonN = ipywidgets.Button(description='No', button_style='danger')\n",
    "    choice_installation = ipywidgets.VBox(\n",
    "    [ipywidgets.Label(\"Do you want to install the QENSmodels' library?\"), ipywidgets.HBox([buttonY, buttonN])],\n",
    "    layout=ipywidgets.Layout(width='50%', height='80px'))\n",
    "    choice_installation"
   ]
  },
  {
   "cell_type": "code",
   "execution_count": 4,
   "metadata": {},
   "outputs": [],
   "source": [
    "if not pkgutil.find_loader(\"QENSmodels\"):\n",
    "    def on_buttonY_clicked(b):\n",
    "        !{sys.executable} -m pip install git+https://github.com/QENSlibrary/QENSmodels#egg=QENSmodels\n",
    "\n",
    "    def on_buttonN_clicked(b):\n",
    "        print(\"You will not be able to run some of the remaining parts of this notebook\")\n",
    "     \n",
    "    buttonY.on_click(on_buttonY_clicked)\n",
    "    buttonN.on_click(on_buttonN_clicked) "
   ]
  },
  {
   "cell_type": "code",
   "execution_count": 5,
   "metadata": {},
   "outputs": [],
   "source": [
    "# install lmfit (if not already installed)\n",
    "if not pkgutil.find_loader(\"lmfit\"):\n",
    "    lmfitY = ipywidgets.Button(description='Yes', button_style='success')\n",
    "    lmfitN = ipywidgets.Button(description='No', button_style='danger')\n",
    "    choice_installation = ipywidgets.VBox(\n",
    "    [ipywidgets.Label(\"Do you want to install lmfit?\"), ipywidgets.HBox([lmfitY, lmfitN])],\n",
    "    layout=ipywidgets.Layout(width='30%', height='80px'))\n",
    "\n",
    "    choice_installation"
   ]
  },
  {
   "cell_type": "code",
   "execution_count": 6,
   "metadata": {},
   "outputs": [],
   "source": [
    "if not pkgutil.find_loader(\"lmfit\"):\n",
    "    def on_lmfitY_clicked(b):\n",
    "        !{sys.executable} -m pip install lmfit\n",
    "    def on_lmfitN_clicked(b):\n",
    "        print(\"You will not be able to run some of the remaining parts of this notebook\")\n",
    "        \n",
    "    lmfitY.on_click(on_lmfitY_clicked)\n",
    "    lmfitN.on_click(on_lmfitN_clicked)"
   ]
  },
  {
   "cell_type": "code",
   "execution_count": 7,
   "metadata": {},
   "outputs": [],
   "source": [
    "from lmfit import Model, CompositeModel\n",
    "from scipy.interpolate import interp1d\n",
    "\n",
    "# import model from QENS library\n",
    "import QENSmodels"
   ]
  },
  {
   "cell_type": "markdown",
   "metadata": {},
   "source": [
    "[Top](#Table-of-Contents)\n",
    "\n",
    "## Importing the reference data"
   ]
  },
  {
   "cell_type": "code",
   "execution_count": 8,
   "metadata": {},
   "outputs": [],
   "source": [
    "# Create model - 2 lorentzians convoluted with instrument resolution - 6 parameters\n",
    "# Step 1 load instrument resolution data\n",
    "irf_iris = np.loadtxt(path_to_data + 'irf_iris.dat')\n",
    "x_irf = irf_iris[:, 0]\n",
    "y_irf = irf_iris[:, 1]"
   ]
  },
  {
   "cell_type": "code",
   "execution_count": 9,
   "metadata": {},
   "outputs": [
    {
     "data": {
      "image/png": "[encoded data removed]",
      "text/plain": [
       "<Figure size 432x288 with 1 Axes>"
      ]
     },
     "metadata": {
      "needs_background": "light"
     },
     "output_type": "display_data"
    }
   ],
   "source": [
    "# Step 2: create function for instrument resolution data (cubic interpolation between tabulated data points)\n",
    "f = interp1d(x_irf, y_irf, kind='cubic', bounds_error=False, fill_value='extrapolate')\n",
    "\n",
    "def irf_gate(x):\n",
    "    \"\"\" Function defined from the interpolation of instrument resolution data \n",
    "    Used to define fitting model and plot \"\"\" \n",
    "    return f(x)\n",
    "\n",
    "# plot tabulated data and interpolated data\n",
    "xx = np.linspace(-.25, .25, 500)\n",
    "\n",
    "fig0, ax0 = plt.subplots()\n",
    "ax0.plot(x_irf, y_irf, 'b.', label='tabulated data')\n",
    "ax0.plot(xx, irf_gate(xx), 'g--', label='extrapolated data')\n",
    "ax0.legend()\n",
    "ax0.set(xlabel='Energy transfer (meV)', title='Instrument resolution: plot tabulated data and interpolated data')\n",
    "ax0.grid();"
   ]
  },
  {
   "cell_type": "markdown",
   "metadata": {},
   "source": [
    "[Top](#Table-of-Contents)\n",
    "\n",
    "## Setting and fitting"
   ]
  },
  {
   "cell_type": "code",
   "execution_count": 10,
   "metadata": {},
   "outputs": [],
   "source": [
    "# Step 3: create \"double lorentzian\" profile\n",
    "def model_2lorentzians(x, scale1, center1, hwhm1, scale2, center2, hwhm2):\n",
    "    return QENSmodels.lorentzian(x, scale1, center1, hwhm1) + QENSmodels.lorentzian(x, scale2, center2, hwhm2)"
   ]
  },
  {
   "cell_type": "code",
   "execution_count": 11,
   "metadata": {},
   "outputs": [],
   "source": [
    "# Step 4: create convolution function \n",
    "# code from https://lmfit.github.io/lmfit-py/model.html\n",
    "\n",
    "def convolve(arr, kernel):\n",
    "    # simple convolution of two arrays\n",
    "    npts = min(len(arr), len(kernel))\n",
    "    pad  = np.ones(npts)\n",
    "    tmp  = np.concatenate((pad*arr[0], arr, pad*arr[-1]))\n",
    "    \n",
    "    out  = np.convolve(tmp, kernel, mode='valid')\n",
    "    noff = int((len(out) - npts)/2)\n",
    "    return out[noff:noff+npts]"
   ]
  },
  {
   "cell_type": "code",
   "execution_count": 12,
   "metadata": {},
   "outputs": [
    {
     "name": "stdout",
     "output_type": "stream",
     "text": [
      "Names of parameters: ['scale1', 'center1', 'hwhm1', 'scale2', 'center2', 'hwhm2']\n",
      "Independent variable(s): ['x']\n"
     ]
    }
   ],
   "source": [
    "# Create model for the fit\n",
    "gmodel = CompositeModel(Model(irf_gate), Model(model_2lorentzians), convolve) \n",
    "\n",
    "print('Names of parameters:', gmodel.param_names )\n",
    "print('Independent variable(s):', gmodel.independent_vars )"
   ]
  },
  {
   "cell_type": "code",
   "execution_count": null,
   "metadata": {},
   "outputs": [],
   "source": [
    "# Load reference data - extract x and y values\n",
    "two_lorentzians_iris = np.loadtxt(path_to_data + 'data_2lorentzians.dat')\n",
    "xx = two_lorentzians_iris[:, 0]\n",
    "yy = two_lorentzians_iris[:, 1]"
   ]
  },
  {
   "cell_type": "code",
   "execution_count": null,
   "metadata": {},
   "outputs": [],
   "source": [
    "# Fit\n",
    "result = gmodel.fit(yy, x=xx, scale1=1., center1=0., hwhm1=0.25, scale2=1., center2=1., hwhm2=0.25)\n",
    "\n",
    "fig1, ax1 = plt.subplots()\n",
    "ax1.plot(xx, yy, '+', label='experimental data')\n",
    "ax1.plot(xx, result.init_fit, 'k--', label='model with initial guesses')\n",
    "ax1.legend()\n",
    "ax1.set(xlabel='Energy transfer (meV)', title='Plot before fitting: experimental data and mode with initial guesses')\n",
    "ax1.grid();"
   ]
  },
  {
   "cell_type": "markdown",
   "metadata": {},
   "source": [
    "[Top](#Table-of-Contents)\n",
    "\n",
    "## Plotting results"
   ]
  },
  {
   "cell_type": "code",
   "execution_count": null,
   "metadata": {},
   "outputs": [],
   "source": [
    "# display result\n",
    "print('Result of fit:\\n', result.fit_report())\n",
    "\n",
    "# plot selected results: experimental data and best fit\n",
    "fig2, ax2 = plt.subplots()\n",
    "ax2.plot(xx, yy, '+', label='experimental data')\n",
    "ax2.plot(xx, result.best_fit, 'r-', label='best fit')\n",
    "ax2.grid()\n",
    "ax2.set(xlabel='Energy transfer (meV)', title='Plot selected fitting results: experimental data and best fit')\n",
    "ax2.legend();"
   ]
  },
  {
   "cell_type": "code",
   "execution_count": null,
   "metadata": {
    "scrolled": true
   },
   "outputs": [],
   "source": [
    "# other option to plot result using lmfit's features\n",
    "result.plot()"
   ]
  },
  {
   "cell_type": "code",
   "execution_count": null,
   "metadata": {},
   "outputs": [],
   "source": [
    "for item in result.params.keys():\n",
    "    print(item[:-1], result.params[item].value, '+/-', result.params[item].stderr, dict_physical_units[item[:-1]])"
   ]
  },
  {
   "cell_type": "code",
   "execution_count": null,
   "metadata": {},
   "outputs": [],
   "source": []
  }
 ],
 "metadata": {
  "kernelspec": {
   "display_name": "Python 3",
   "language": "python",
   "name": "python3"
  },
  "language_info": {
   "codemirror_mode": {
    "name": "ipython",
    "version": 3
   },
   "file_extension": ".py",
   "mimetype": "text/x-python",
   "name": "python",
   "nbconvert_exporter": "python",
   "pygments_lexer": "ipython3",
   "version": "3.7.3"
  },
  "toc": {
   "base_numbering": 1,
   "nav_menu": {},
   "number_sections": true,
   "sideBar": true,
   "skip_h1_title": true,
   "title_cell": "Table of Contents",
   "title_sidebar": "Contents",
   "toc_cell": false,
   "toc_position": {},
   "toc_section_display": true,
   "toc_window_display": false
  },
  "varInspector": {
   "cols": {
    "lenName": 16,
    "lenType": 16,
    "lenVar": 40
   },
   "kernels_config": {
    "python": {
     "delete_cmd_postfix": "",
     "delete_cmd_prefix": "del ",
     "library": "var_list.py",
     "varRefreshCmd": "print(var_dic_list())"
    },
    "r": {
     "delete_cmd_postfix": ") ",
     "delete_cmd_prefix": "rm(",
     "library": "var_list.r",
     "varRefreshCmd": "cat(var_dic_list()) "
    }
   },
   "types_to_exclude": [
    "module",
    "function",
    "builtin_function_or_method",
    "instance",
    "_Feature"
   ],
   "window_display": false
  }
 },
 "nbformat": 4,
 "nbformat_minor": 2
}
