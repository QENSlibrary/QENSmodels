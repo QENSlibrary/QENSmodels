{
 "cells": [
  {
   "cell_type": "markdown",
   "metadata": {
    "slideshow": {
     "slide_type": "slide"
    }
   },
   "source": [
    "<a id='Table of Contents'></a><h1>Table of Contents</h1>\n",
    "\n",
    "- <a href='#introduction'>Introduction</a> \n",
    "- <a href='#imports'>Import and install required libraries</a>  \n",
    "- <a href='#setting_fitting'>Setting of fitting</a>  \n",
    "- <a href='#run_fit'>Running the fit</a>  \n",
    "- <a href='#results'>Showing the results</a> "
   ]
  },
  {
   "cell_type": "markdown",
   "metadata": {
    "slideshow": {
     "slide_type": "slide"
    }
   },
   "source": [
    "(<a href='#Table of Contents'>Top</a>)<a id='introduction'></a><h2>Introduction</h2>\n",
    "\n",
    "<div class=\"alert alert-block alert-info\">\n",
    "The objective of this notebook is to show how to use the <b>Brownian Translational diffusion</b> model to perform some \n",
    "fits using <a href=\"https://github.com/bumps/bumps\">bumps</a> .\n",
    "</div>\n",
    "\n",
    "The **reference data** were generated data corresponding to a Brownian Translational diffusion model with self-diffusion coefficient = 0.145 AA$^2\\times$meV.\n",
    "\n",
    "The model was convoluted with a Gaussian resolution function \n",
    "of FWHM = 0.1 meV, centered randomly in the range \\[-0.01, +0.01\\] meV.\n",
    "\n",
    "Finally the data are sampled randomly from a Poisson distribution.\n",
    "\n",
    "The data do not have a background.\n",
    "\n",
    "### Physical units\n",
    "Please note that the following units are used for the QENS models\n",
    "\n",
    "| Type of parameter | Unit          |\n",
    "| ----------------- |---------------|\n",
    "| Time              | picosecond    |\n",
    "| Length            | Angstrom      |\n",
    "| Momentum transfer | 1/Angstrom    |"
   ]
  },
  {
   "cell_type": "markdown",
   "metadata": {
    "slideshow": {
     "slide_type": "slide"
    }
   },
   "source": [
    "(<a href='#Table of Contents'>Top</a>)<a id='imports'></a><h2> Import python modules for plotting, fitting... </h2>"
   ]
  },
  {
   "cell_type": "code",
   "execution_count": null,
   "metadata": {
    "slideshow": {
     "slide_type": "subslide"
    }
   },
   "outputs": [],
   "source": [
    "# Imported required libraries\n",
    "from __future__ import print_function\n",
    "import sys\n",
    "import os\n",
    "\n",
    "# for interactive plots\n",
    "import panel\n",
    "panel.extension()\n",
    "import panel.widgets as pnw"
   ]
  },
  {
   "cell_type": "code",
   "execution_count": null,
   "metadata": {
    "slideshow": {
     "slide_type": "subslide"
    }
   },
   "outputs": [],
   "source": [
    "# install bumps (if not already installed)\n",
    "import pkgutil\n",
    "if not pkgutil.find_loader(\"bumps\"):\n",
    "    !{sys.executable} -m pip install bumps\n",
    "\n",
    "# check version of bumps installed\n",
    "# Information message if installed version not recent enough\n",
    "import bumps\n",
    "\n",
    "from distutils.version import StrictVersion\n",
    "if StrictVersion(bumps.__version__) <= StrictVersion('0.7.6'):\n",
    "    print(\"\"\"The version of bumps installed is not recent \n",
    "    enough to run the examples. \n",
    "    Please update bumps. The minimum version required is 0.7.8\"\"\")"
   ]
  },
  {
   "cell_type": "markdown",
   "metadata": {
    "slideshow": {
     "slide_type": "slide"
    }
   },
   "source": [
    " (<a href='#Table of Contents'>Top</a>)<a id='setting_fitting'></a><h2>Setting of fitting </h2>\n",
    "<h3> load data, prepare data, create fitting model and set initial guesses </h3>"
   ]
  },
  {
   "cell_type": "code",
   "execution_count": null,
   "metadata": {},
   "outputs": [],
   "source": [
    "# install QENSmodels (if not already installed)\n",
    "\n",
    "if not pkgutil.find_loader(\"QENSmodels\"):\n",
    "    !{sys.executable} -m pip install git+https://github.com/QENSlibrary/QENSmodels#egg=QENSmodels"
   ]
  },
  {
   "cell_type": "code",
   "execution_count": null,
   "metadata": {
    "slideshow": {
     "slide_type": "subslide"
    }
   },
   "outputs": [],
   "source": [
    "import h5py\n",
    "import QENSmodels\n",
    "import numpy as np\n",
    "from scipy.integrate import simps\n",
    "from bumps.names import *\n",
    "from bumps.fitters import fit\n",
    "from bumps.formatnum import format_uncertainty\n",
    "\n",
    "path_to_data = './data/'\n",
    "\n",
    "# Read the sample\n",
    "f = h5py.File(path_to_data + 'BrownianDiff_Sample.hdf', 'r')\n",
    "hw = f['entry1']['data1']['X'][:]\n",
    "q = f['entry1']['data1']['Y'][:]\n",
    "sqw = np.transpose(f['entry1']['data1']['DATA'][:])\n",
    "err = np.transpose(f['entry1']['data1']['errors'][:])\n",
    "f.close()\n",
    "\n",
    "# Read resolution\n",
    "f = h5py.File(path_to_data + 'BrownianDiff_Resol.hdf', 'r')\n",
    "res = np.transpose(f['entry1']['data1']['DATA'][:])\n",
    "f.close()\n",
    "\n",
    "# Force resolution function to have unit area\n",
    "for i in range(len(q)):\n",
    "    area = simps(res[:,i], hw)\n",
    "    res[:,i] /= area   \n",
    "\n",
    "\n",
    "# Fitting model \n",
    "def model_convol(x, q, scale=1, center=0, D=1, resolution=None):\n",
    "    model = QENSmodels.sqwBrownianTranslationalDiffusion(x, q, scale, center, D)\n",
    "    return np.convolve(model, resolution/resolution.sum(), mode='same')\n",
    "\n",
    "# Fit\n",
    "M = []\n",
    "\n",
    "for i in range(len(q)):\n",
    "\n",
    "    # Bumps fitting model\n",
    "    Mq = Curve(model_convol, hw, sqw[:,i], err[:,i], q=q[i],          \n",
    "               scale=1000, center=0.0, D=0.1, resolution=res[:, i])\n",
    "    Mq.scale.range(0, 1e5)\n",
    "    Mq.center.range(-0.1, 0.1)\n",
    "    Mq.D.range(0,1)\n",
    "    \n",
    "    # Q-independent parameters\n",
    "    if i == 0:\n",
    "        QD = Mq.D  \n",
    "    else:\n",
    "        Mq.D = QD\n",
    "    M.append(Mq)\n",
    "        \n",
    "problem = FitProblem(M)"
   ]
  },
  {
   "cell_type": "markdown",
   "metadata": {
    "slideshow": {
     "slide_type": "slide"
    }
   },
   "source": [
    "<h3> Choice of minimizer for bumps </h3>"
   ]
  },
  {
   "cell_type": "code",
   "execution_count": null,
   "metadata": {},
   "outputs": [],
   "source": [
    "options_dict={'Levenberg-Marquardt': \"lm\", \n",
    "             'Nelder-Mead Simplex': \"amoeba\", \n",
    "             'DREAM': \"dream\", \n",
    "             'Differential Evolution': \"de\", \n",
    "             'Quasi-Newton BFGS': \"newton\", \n",
    "             'Random Lines (experimental)': \"rl\", \n",
    "             'Particle Swarm (experimental)': \"ps\", \n",
    "             'Parallel Tempering (experimental)': \"pt\"}\n",
    "\n",
    "w_choice_minimizer= pnw.Select(name='Minimizer:', options=list(options_dict.keys()), value='Levenberg-Marquardt')\n",
    "\n",
    "w_choice_minimizer"
   ]
  },
  {
   "cell_type": "markdown",
   "metadata": {},
   "source": [
    "<h3> Setting for running bumps </h3>"
   ]
  },
  {
   "cell_type": "code",
   "execution_count": null,
   "metadata": {},
   "outputs": [],
   "source": [
    "steps_fitting = pnw.TextInput(\n",
    "        placeholder='number of steps when fitting',\n",
    "        width=250,\n",
    "        name='Number of steps for fit:', value='100')\n",
    "steps_fitting"
   ]
  },
  {
   "cell_type": "code",
   "execution_count": null,
   "metadata": {},
   "outputs": [],
   "source": [
    "# Input chosen values to related fitting variables\n",
    "# CHOICE OF MINIMIZER\n",
    "chosen_minimizer = options_dict[w_choice_minimizer.value]\n",
    "\n",
    "# NUMBER OF STEPS WHEN RUNNING THE FIT\n",
    "steps = int(steps_fitting.value)"
   ]
  },
  {
   "cell_type": "code",
   "execution_count": null,
   "metadata": {},
   "outputs": [],
   "source": [
    "# Preview of the settings\n",
    "print('Initial chisq', problem.chisq_str())\n",
    "problem.plot()"
   ]
  },
  {
   "cell_type": "markdown",
   "metadata": {},
   "source": [
    "(<a href='#Table of Contents'>Top</a>)<a id='run_fit'></a><h2>Running the fit</h2>\n",
    "\n",
    "Run the fit using the *minimizer* defined above with a number of *steps* also specified above"
   ]
  },
  {
   "cell_type": "code",
   "execution_count": null,
   "metadata": {},
   "outputs": [],
   "source": [
    "result = fit(problem, \n",
    "             method=chosen_minimizer, \n",
    "             steps=steps, \n",
    "             verbose=True)"
   ]
  },
  {
   "cell_type": "markdown",
   "metadata": {},
   "source": [
    "(<a href='#Table of Contents'>Top</a>)<a id='results'></a><h2>Showing the results </h2>"
   ]
  },
  {
   "cell_type": "code",
   "execution_count": null,
   "metadata": {},
   "outputs": [],
   "source": [
    "problem.plot()"
   ]
  },
  {
   "cell_type": "code",
   "execution_count": null,
   "metadata": {},
   "outputs": [],
   "source": [
    "# Print chi**2 and parameters' values after fit\n",
    "print(\"final chisq\", problem.chisq_str())\n",
    "for k, v, dv in zip(problem.labels(), result.x, result.dx):\n",
    "    print(k, \":\", format_uncertainty(v, dv))"
   ]
  },
  {
   "cell_type": "code",
   "execution_count": null,
   "metadata": {},
   "outputs": [],
   "source": []
  }
 ],
 "metadata": {
  "celltoolbar": "Raw Cell Format",
  "kernelspec": {
   "display_name": "Python 3",
   "language": "python",
   "name": "python3"
  },
  "language_info": {
   "codemirror_mode": {
    "name": "ipython",
    "version": 3
   },
   "file_extension": ".py",
   "mimetype": "text/x-python",
   "name": "python",
   "nbconvert_exporter": "python",
   "pygments_lexer": "ipython3",
   "version": "3.7.2"
  },
  "livereveal": {
   "scroll": true,
   "start_slideshow_at": "beginning"
  },
  "toc": {
   "base_numbering": 1,
   "nav_menu": {},
   "number_sections": false,
   "sideBar": true,
   "skip_h1_title": false,
   "title_cell": "Table of Contents",
   "title_sidebar": "Contents",
   "toc_cell": false,
   "toc_position": {},
   "toc_section_display": false,
   "toc_window_display": false
  },
  "varInspector": {
   "cols": {
    "lenName": 16,
    "lenType": 16,
    "lenVar": 40
   },
   "kernels_config": {
    "python": {
     "delete_cmd_postfix": "",
     "delete_cmd_prefix": "del ",
     "library": "var_list.py",
     "varRefreshCmd": "print(var_dic_list())"
    },
    "r": {
     "delete_cmd_postfix": ") ",
     "delete_cmd_prefix": "rm(",
     "library": "var_list.r",
     "varRefreshCmd": "cat(var_dic_list()) "
    }
   },
   "types_to_exclude": [
    "module",
    "function",
    "builtin_function_or_method",
    "instance",
    "_Feature"
   ],
   "window_display": false
  }
 },
 "nbformat": 4,
 "nbformat_minor": 2
}
