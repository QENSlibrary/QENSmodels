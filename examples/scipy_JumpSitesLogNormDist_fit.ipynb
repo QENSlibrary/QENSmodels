{
 "cells": [
  {
   "cell_type": "markdown",
   "metadata": {},
   "source": [
    "<div class=\"alert alert-block alert-warning\">\n",
    "<b>Disclaimer:</b> The main objective of the jupyter notebooks is to show how to use the models of the <i>QENS library</i> by\n",
    "    \n",
    "- building a fitting model: composition of models, convolution with a resolution function\n",
    "- setting and run the fit   \n",
    "- extracting and displaying information about the results\n",
    "\n",
    "These steps have a minimizer-dependent syntax. That's one of the reasons why different minimizers have been used in the notebooks provided as examples.\n",
    "But, the initial guessed parameters might not be optimal, resulting in a poor fit of the reference data.\n",
    "</div>\n",
    "\n",
    "<h1> Example: Jump sites log norm diffusion model fitted with scipy </h1>\n",
    "\n",
    "<a id='Table of Contents'></a><h1>Table of Contents</h1>\n",
    "\n",
    "- <a href='#introduction'>Introduction</a>  \n",
    "- <a href='#imports'>Importing libraries</a>\n",
    "- <a href='#anim_plot'>Plot of the fitting model</a>\n",
    "- <a href='#ref_data'>Creating reference data</a>\n",
    "- <a href='#fitting'>Setting and fitting</a>\n",
    "- <a href='#plot'>Plotting the results</a>  "
   ]
  },
  {
   "cell_type": "markdown",
   "metadata": {},
   "source": [
    "(<a href='#Table of Contents'>Top</a>)<a id='introduction'></a><h2>Introduction</h2>\n",
    "<div class=\"alert alert-block alert-info\">\n",
    "The objective of this notebook is to show how to use one of the models of \n",
    "the <a href=\"https://github.com/QENSlibrary/QENSmodels\">QENSlibrary</a>, <b>sqwJumpSitesLogNormDist</b>, to perform some fits. \n",
    "\n",
    "<a href=\"https://docs.scipy.org/doc/scipy/reference/generated/scipy.optimize.curve_fit.html\">scipy.optimize.curve_fit</a> is used for fitting.\n",
    "</div>\n",
    "\n",
    "### Physical units\n",
    "\n",
    "For information about unit conversion, please refer to the jupyter notebook called `Convert_units.ipynb` in the `tools` folder.\n",
    "\n",
    "The dictionary of units defined in the cell below specify the units of the refined parameters adapted to the convention used in the experimental datafile."
   ]
  },
  {
   "cell_type": "code",
   "execution_count": null,
   "metadata": {},
   "outputs": [],
   "source": [
    "# Units of parameters for selected QENS model and experimental data\n",
    "\n",
    "dict_physical_units = {'scale': \"unit_of_signal.ps\", 'center': \"1/ps\", 'radius': 'Angstrom', 'resTime': 'ps'}"
   ]
  },
  {
   "cell_type": "markdown",
   "metadata": {},
   "source": [
    "(<a href='#Table of Contents'>Top</a>)<a id='imports'></a><h2>Importing libraries</h2>"
   ]
  },
  {
   "cell_type": "code",
   "execution_count": null,
   "metadata": {},
   "outputs": [],
   "source": [
    "# install QENSmodels (if not already installed)\n",
    "import pkgutil\n",
    "import sys\n",
    "\n",
    "if not pkgutil.find_loader(\"QENSmodels\"):\n",
    "    buttonY = pnw.Button(name='Yes', button_type='success')\n",
    "    buttonN = pnw.Button(name='No', button_type='danger')\n",
    "    choice_installation = panel.Column(\"Do you want to install the QENSmodels' library?\", panel.Row(buttonY, buttonN))\n",
    "    display(choice_installation)"
   ]
  },
  {
   "cell_type": "code",
   "execution_count": null,
   "metadata": {},
   "outputs": [],
   "source": [
    "if not pkgutil.find_loader(\"QENSmodels\"):\n",
    "    if buttonY.clicks>0:\n",
    "        !{sys.executable} -m pip install git+https://github.com/QENSlibrary/QENSmodels#egg=QENSmodels\n",
    "    elif buttonN.clicks>0:\n",
    "        print(\"You will not be able to run some of the remaining parts of this notebook\")"
   ]
  },
  {
   "cell_type": "code",
   "execution_count": null,
   "metadata": {},
   "outputs": [],
   "source": [
    "# import python modules for plotting, fitting\n",
    "from __future__ import print_function\n",
    "import numpy as np\n",
    "%matplotlib inline\n",
    "import matplotlib.pyplot as plt\n",
    "from scipy.optimize import curve_fit\n",
    "\n",
    "# for interactive plot\n",
    "from pandas import DataFrame\n",
    "import panel.widgets as pnw\n",
    "import panel as pn\n",
    "pn.extension()\n",
    "\n",
    "# import model from QENS library\n",
    "import QENSmodels"
   ]
  },
  {
   "cell_type": "markdown",
   "metadata": {},
   "source": [
    "(<a href='#Table of Contents'>Top</a>)<a id='anim_plot'></a><h2>Plot of the fitting model</h2>\n",
    "\n",
    "The widget below shows the peak shape function imported from QENSmodels where the function's parameters can be varied."
   ]
  },
  {
   "cell_type": "code",
   "execution_count": null,
   "metadata": {},
   "outputs": [],
   "source": [
    "def mplplot(df, **kwargs):\n",
    "    fig = df.plot(legend=False).get_figure()\n",
    "    plt.grid()\n",
    "    plt.ylabel('jump sites log normal distribution')\n",
    "    plt.xlabel('x')\n",
    "    plt.close(fig)\n",
    "    return fig\n",
    "\n",
    "def jump_log_norm(q=1, scale=1., center=1., Nsites=3, radius=1., resTime=1., sigma=1., view_fn=mplplot):\n",
    "    xs = np.linspace(-10,10,100)\n",
    "    ys = QENSmodels.sqwJumpSitesLogNormDist(xs, q, scale, center, Nsites, radius, resTime, sigma)\n",
    "    df = DataFrame(dict(y=ys), index=xs)\n",
    "    return view_fn(df, q=q, scale=scale, center=center, Nsites=Nsites, radius=radius, resTime=resTime, sigma=sigma)\n",
    "\n",
    "q = pnw.FloatSlider(name='q', value=1, start=.1, end=10)\n",
    "scale  = pnw.FloatSlider(name='scale', value=5, start=1., end=10)\n",
    "center = pnw.FloatSlider(name='center', value=5, start=0, end=10)\n",
    "Nsites = pnw.IntSlider(name='Nsites', value=3, start=2, end=10)\n",
    "radius = pnw.FloatSlider(name='radius', value=1, start=1, end=10)\n",
    "resTime = pnw.FloatSlider(name='resTime', value=1, start=1, end=10)\n",
    "sigma = pnw.FloatSlider(name='sigma', value=1, start=0.1, end=10)\n",
    "\n",
    "def on_click(event):\n",
    "    \"\"\"Reset the interactive plots to inital values.\"\"\"\n",
    "    print(\"reset values\")\n",
    "    q.value = 1\n",
    "    scale.value = 5\n",
    "    center.value = 5\n",
    "    Nsites.value = 3\n",
    "    radius.value = 1\n",
    "    resTime.value = 1\n",
    "    sigma.value = 1 \n",
    "    \n",
    "reset_button = pnw.Button(name='Reset')\n",
    "\n",
    "widgets    = pn.Column(\"#### sqwJumpSitesLogNormDist\", q, scale, center, Nsites, radius, resTime, sigma, reset_button)\n",
    "jump_log_norm_panel = pn.Row(jump_log_norm(q.value, scale.value, center.value, Nsites.value, radius.value, resTime.value, sigma.value), widgets)\n",
    "\n",
    "def update(event):\n",
    "    jump_log_norm_panel[0] = jump_log_norm(q.value, scale.value, center.value, Nsites.value, radius.value, resTime.value, sigma.value)\n",
    "    \n",
    "q.param.watch(update, 'value')\n",
    "scale.param.watch(update, 'value')\n",
    "center.param.watch(update, 'value')\n",
    "Nsites.param.watch(update, 'value')\n",
    "radius.param.watch(update, 'value')\n",
    "resTime.param.watch(update, 'value')\n",
    "sigma.param.watch(update, 'value')\n",
    "\n",
    "reset_button.param.watch(on_click, 'clicks')\n",
    "\n",
    "jump_log_norm_panel"
   ]
  },
  {
   "cell_type": "markdown",
   "metadata": {},
   "source": [
    "(<a href='#Table of Contents'>Top</a>)<a id='ref_data'></a><h2>Creating reference data</h2>\n",
    "\n",
    "**Input:** the reference data for this simple example correspond to sqwJumpSitesLogNormDist with added noise.\n",
    "\n",
    "The fit is performed using `scipy.optimize.curve_fit`. <br> The example is based on implementations from https://docs.scipy.org/doc/scipy/reference/generated/scipy.optimize.curve_fit.html"
   ]
  },
  {
   "cell_type": "code",
   "execution_count": null,
   "metadata": {},
   "outputs": [],
   "source": [
    "# Creation of reference data\n",
    "xx = np.linspace(-10,10,100)\n",
    "sqw_jump_sites_noisy = QENSmodels.sqwJumpSitesLogNormDist(xx, 0.89, 1, 0.3, 5, 2, 0.45, 0.25)*(1. + 0.04*np.random.normal(0,1,100)) + 0.02*np.random.normal(0,1,100)\n",
    "\n",
    "plt.plot(xx, sqw_jump_sites_noisy, label='reference data')\n",
    "plt.xlabel('x')\n",
    "plt.grid()\n",
    "plt.legend()\n",
    "plt.show()"
   ]
  },
  {
   "cell_type": "markdown",
   "metadata": {},
   "source": [
    "(<a href='#Table of Contents'>Top</a>)<a id='fitting'></a><h2>Setting and fitting</h2>"
   ]
  },
  {
   "cell_type": "code",
   "execution_count": null,
   "metadata": {},
   "outputs": [],
   "source": [
    "# From https://docs.scipy.org/doc/scipy/reference/generated/scipy.optimize.curve_fit.html\n",
    "# perform fit with initial guesses scale=0.95, center=0.2, radius=2, resTime=0.45, sigma=0.25\n",
    "# Nsites=5 and q =0.89 are fixed\n",
    "\n",
    "def func_to_fit(xx, scale, center, radius, resTime, sigma):\n",
    "    return QENSmodels.sqwJumpSitesLogNormDist(xx, 0.89, scale, center, 5, radius, resTime, sigma)\n",
    "plt.plot(xx, sqw_jump_sites_noisy, 'b-', label='reference data')\n",
    "plt.plot(xx, QENSmodels.sqwJumpSitesLogNormDist(xx, 0.89, scale=0.95, center=0.2, Nsites=5, radius=2, resTime=0.45, sigma=0.25), 'r-', label='model with initial guesses')\n",
    "plt.xlabel('x')\n",
    "plt.grid()\n",
    "plt.legend(bbox_to_anchor=(1.05, 1), loc=2, borderaxespad=0.)\n",
    "plt.show()\n",
    "\n",
    "popt, pcov = curve_fit(func_to_fit, xx, sqw_jump_sites_noisy, p0=[0.95, 0.2, 2, 0.45, 0.25], \n",
    "                       bounds=((0.1, -2, 0.1, 0.1, 0.1), (5, 2, 5, 11, 1)))"
   ]
  },
  {
   "cell_type": "markdown",
   "metadata": {},
   "source": [
    "(<a href='#Table of Contents'>Top</a>)<a id='plot'></a><h2>Plotting the results</h2>"
   ]
  },
  {
   "cell_type": "code",
   "execution_count": null,
   "metadata": {},
   "outputs": [],
   "source": [
    "# Calculation of the errors on the refined parameters:\n",
    "perr = np.sqrt(np.diag(pcov))\n",
    "\n",
    "print('Values of refined parameters:')\n",
    "print('scale:'  , popt[0],'+/-', perr[0], dict_physical_units['scale'])\n",
    "print('center :', popt[1],'+/-', perr[1], dict_physical_units['center'])\n",
    "print('radius'  , popt[2],'+/-', perr[2], dict_physical_units['radius'])\n",
    "print('resTime' , popt[3],'+/-', perr[3], dict_physical_units['resTime'])\n",
    "print('sigma'   , popt[4],'+/-', perr[4])\n",
    "\n",
    "# Comparison of reference data with fitting result\n",
    "plt.plot(xx, sqw_jump_sites_noisy, 'b-', label='reference data')\n",
    "plt.plot(xx, func_to_fit(xx, *popt), 'g--', label='fit: %5.3f, %5.3f, %5.3f, %5.3f, %5.3f' % tuple(popt))\n",
    "plt.legend(bbox_to_anchor=(1.05, 1), loc='upper left'), borderaxespad=0.)\n",
    "plt.xlabel('x')\n",
    "plt.grid()\n",
    "plt.show()"
   ]
  },
  {
   "cell_type": "code",
   "execution_count": null,
   "metadata": {},
   "outputs": [],
   "source": []
  }
 ],
 "metadata": {
  "kernelspec": {
   "display_name": "Python 3",
   "language": "python",
   "name": "python3"
  },
  "language_info": {
   "codemirror_mode": {
    "name": "ipython",
    "version": 3
   },
   "file_extension": ".py",
   "mimetype": "text/x-python",
   "name": "python",
   "nbconvert_exporter": "python",
   "pygments_lexer": "ipython3",
   "version": "3.7.2"
  },
  "toc": {
   "base_numbering": 1,
   "nav_menu": {},
   "number_sections": true,
   "sideBar": true,
   "skip_h1_title": false,
   "title_cell": "Table of Contents",
   "title_sidebar": "Contents",
   "toc_cell": false,
   "toc_position": {},
   "toc_section_display": true,
   "toc_window_display": false
  },
  "varInspector": {
   "cols": {
    "lenName": 16,
    "lenType": 16,
    "lenVar": 40
   },
   "kernels_config": {
    "python": {
     "delete_cmd_postfix": "",
     "delete_cmd_prefix": "del ",
     "library": "var_list.py",
     "varRefreshCmd": "print(var_dic_list())"
    },
    "r": {
     "delete_cmd_postfix": ") ",
     "delete_cmd_prefix": "rm(",
     "library": "var_list.r",
     "varRefreshCmd": "cat(var_dic_list()) "
    }
   },
   "types_to_exclude": [
    "module",
    "function",
    "builtin_function_or_method",
    "instance",
    "_Feature"
   ],
   "window_display": false
  }
 },
 "nbformat": 4,
 "nbformat_minor": 2
}
