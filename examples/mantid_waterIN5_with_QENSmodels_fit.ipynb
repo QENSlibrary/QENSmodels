{
 "cells": [
  {
   "cell_type": "markdown",
   "metadata": {},
   "source": [
    "<div class=\"alert alert-block alert-warning\">\n",
    "<h1>Warning</h1>\n",
    "</br>  \n",
    "The content of this notebook is still a work in progress. There is no guarantee that it will run on your computer.\n",
    "</div>"
   ]
  },
  {
   "cell_type": "markdown",
   "metadata": {},
   "source": [
    "### Objective\n",
    "We want to refine some experimental data using some functions of the QENS library and Mantid fitting engine.  \n",
    "The fitting model is defined using the `IFunction1D` available in Mantid to implement users' fitting function.\n",
    "\n",
    "### Requirements\n",
    "For this notebook to work do:\n",
    "\n",
    "* Install Mantid version 3.12 (or higher) \n",
    "\n",
    "* On **Windows**, from a command prompt <br>\n",
    "  `type c:/MantidInstall/bin/mantidpython.bat notebook`\n",
    "\n",
    "* on **MacOS**, from a terminal type <br>\n",
    "  `Applications/MantidPlot.app/Contents/MacOS/mantidpython notebook`\n",
    "  \n",
    "* on **Linux**, **TO BE COMPLETED** <br>\n",
    "\n",
    "For more info on working with IPython/Jupyter and Mantid see also: http://www.mantidproject.org/Using_IPython_Notebook <br>\n",
    "\n",
    "For example to run the notebook **on Mac**, in a terminal move to the 'examples' folder of the QENS library and type <br>\n",
    "`/Applications/MantidPlot.app/Contents/MacOS/mantidpython notebook`"
   ]
  },
  {
   "cell_type": "markdown",
   "metadata": {},
   "source": [
    "**Setup Mantid**"
   ]
  },
  {
   "cell_type": "code",
   "execution_count": null,
   "metadata": {
    "collapsed": true
   },
   "outputs": [],
   "source": [
    "import sys\n",
    "import os\n",
    "\n",
    "# Tell Python where Mantid is installed.\n",
    "# The official packages put this information in an environment variable called \"MANTIDPATH\"\n",
    "sys.path.append(os.environ['MANTIDPATH'])\n",
    "# for example, on Mac, it is '/Applications/MantidPlot.app/Contents/MacOS'\n",
    "\n",
    "# We can now import Mantid's Python API\n",
    "from mantid.simpleapi import *"
   ]
  },
  {
   "cell_type": "markdown",
   "metadata": {},
   "source": [
    "**Setup QENS models library**"
   ]
  },
  {
   "cell_type": "code",
   "execution_count": null,
   "metadata": {
    "collapsed": true
   },
   "outputs": [],
   "source": [
    "# install QENSmodels (if not already installed)\n",
    "import pkgutil\n",
    "\n",
    "if not pkgutil.find_loader(\"QENSmodels\"):\n",
    "    !{sys.executable} -m pip install git+https://github.com/QENSlibrary/QENSmodels#egg=QENSmodels"
   ]
  },
  {
   "cell_type": "code",
   "execution_count": null,
   "metadata": {
    "collapsed": true
   },
   "outputs": [],
   "source": [
    "import QENSmodels"
   ]
  },
  {
   "cell_type": "markdown",
   "metadata": {},
   "source": [
    "**Setup matplotlib, numpy etc**"
   ]
  },
  {
   "cell_type": "code",
   "execution_count": null,
   "metadata": {
    "collapsed": true
   },
   "outputs": [],
   "source": [
    "import numpy as np\n",
    "from scipy.constants import pi\n",
    "\n",
    "#Some magic to tell matplotlib how to behave in IPython Notebook\n",
    "%matplotlib inline\n",
    "\n",
    "import matplotlib.pyplot as plt"
   ]
  },
  {
   "cell_type": "markdown",
   "metadata": {},
   "source": [
    "### Load, normalize and crop data"
   ]
  },
  {
   "cell_type": "code",
   "execution_count": null,
   "metadata": {
    "collapsed": true
   },
   "outputs": [],
   "source": [
    "# Path to where the data for the examples are (/QENSmodels/examples/data)\n",
    "path_to_data = os.path.join(os.getcwd(), 'data/')\n",
    "\n",
    "# experimental data\n",
    "ws_5Aini = LoadLamp(path_to_data+'H2O_293K_5A.hdf')\n",
    "\n",
    "# vanadium\n",
    "res_5Aini = LoadLamp(path_to_data+'V_273K_5A.hdf')\n",
    "\n",
    "hw_5A = ws_5Aini.readX(0)\n",
    "\n",
    "idx_5A = np.where(np.logical_and(hw_5A > -1.0, hw_5A < 1.0))\n",
    "index_4_trunc_5A = idx_5A[0].tolist()\n",
    "\n",
    "print('Number of histograms and blocksize for data workspace', ws_5Aini.getNumberHistograms(), ws_5Aini.blocksize())\n",
    "print('Number of histograms and blocksize for resolution workspace', res_5Aini.getNumberHistograms(), res_5Aini.blocksize())"
   ]
  },
  {
   "cell_type": "code",
   "execution_count": null,
   "metadata": {
    "collapsed": true
   },
   "outputs": [],
   "source": [
    "# Force resolution function to have unit area\n",
    "norm_res_5A = CloneWorkspace(res_5Aini)\n",
    "\n",
    "for i in range(res_5Aini.getNumberHistograms()):\n",
    "    area = Integration(res_5Aini, StartWorkspaceIndex=i, EndWorkspaceIndex=i)\n",
    "    y_norm = norm_res_5A.dataY(i)\n",
    "    y_norm /= area.readY(0)[0]\n",
    "\n",
    "# Fit range -1meV < energy < 1 meV\n",
    "x = hw_5A[index_4_trunc_5A]\n",
    "\n",
    "# Apply truncation to data\n",
    "ws_5A = CropWorkspace(ws_5Aini, XMin=-1, Xmax=1)\n",
    "\n",
    "# Same procedure for normalised resolution\n",
    "res_5A = CropWorkspace(norm_res_5A,  XMin=-1, XMax=1)\n",
    "\n",
    "# Extract values of q to be used in parameters of fitting models\n",
    "q_5A = ws_5A.getAxis(1).extractValues()\n",
    "\n",
    "# Remove invalid data (negative errors)\n",
    "for ii in range(len(q_5A)):\n",
    "    yy = ws_5A.dataY(ii)\n",
    "    err = ws_5A.dataE(ii)\n",
    "    for jj in range(ws_5A.blocksize()):\n",
    "        if err[jj] <= 0:\n",
    "            yy[jj] = 0\n",
    "            err[jj] = 0"
   ]
  },
  {
   "cell_type": "markdown",
   "metadata": {},
   "source": [
    "### Definition of fitting model \n",
    "#### References in Mantid\n",
    "- https://www.mantidproject.org/Python_Function_Attributes\n",
    "\n",
    "- http://docs.mantidproject.org/nightly/api/python/mantid/api/IFunction1D.html?highlight=ifunction1d#mantid.api.IFunction1D.fixParameter\n",
    "\n",
    "- http://docs.mantidproject.org/nightly/concepts/FitFunctionsInPython.html?highlight=multidomainfunction"
   ]
  },
  {
   "cell_type": "code",
   "execution_count": null,
   "metadata": {
    "collapsed": true
   },
   "outputs": [],
   "source": [
    "class MyModel(IFunction1D):\n",
    "    \"\"\"  Definition of model = sum of lorentzian and sqwIsotropicRotationalDiffusion from QENS library\n",
    "    To be used as a fitting model in Mantid \"\"\"\n",
    "    def init(self):\n",
    "        # Documentation from Mantid ExamplePeakFunction.py\n",
    "        # \"Simple attributes required for the function but not as part of the fit itself e.g. number \n",
    "        # of terms to evaluate in some expression\n",
    "        # They must have a default value\"\n",
    "        self.declareAttribute(\"Q\", 1.0)\n",
    "        #active fitting parameters\n",
    "        self.declareParameter(\"scale\", 20., 'scale')\n",
    "        self.declareParameter(\"centre\", 0., 'centre') \n",
    "        self.declareParameter(\"hwhm\", 1., 'hwhm')\n",
    "        self.declareParameter(\"radius\", 0.98, 'radius') \n",
    "        self.declareParameter(\"DR\", 2., 'DR')\n",
    "    \n",
    "    def setAttributeValue(self, name, value):\n",
    "        \"\"\"\n",
    "        Documentation from Mantid ExamplePeakFunction.py\n",
    "        This is called by the framework when an attribute is passed to Fit and its value set.\n",
    "        It's main use is to store the attribute value on the object once to avoid\n",
    "        repeated calls during the fitting process\n",
    "        \"\"\"\n",
    "        if name == \"Q\":\n",
    "            self._Q = value\n",
    "            \n",
    "    def function1D(self, w):\n",
    "        # Access current values during the fit\n",
    "        Q = self.getAttributeValue(\"Q\")\n",
    "        scale = self.getParameterValue(\"scale\")\n",
    "        centre = self.getParameterValue(\"centre\")\n",
    "        hwhm = self.getParameterValue(\"hwhm\")\n",
    "        radius = self.getParameterValue(\"radius\")\n",
    "        DR = self.getParameterValue(\"DR\")\n",
    "        \n",
    "        my_model = QENSmodels.lorentzian(w, scale, centre, hwhm) + QENSmodels.sqwIsotropicRotationalDiffusion(w, Q, scale, centre, radius, DR)\n",
    "\n",
    "        return my_model\n",
    "\n",
    "FunctionFactory.subscribe(MyModel)\n",
    "\n",
    "# user defined model of lorentzian + IsotropicRotationalDiffusion\n",
    "sum_lorentz_isorot = MyModel()"
   ]
  },
  {
   "cell_type": "code",
   "execution_count": null,
   "metadata": {
    "collapsed": true
   },
   "outputs": [],
   "source": [
    "# Attribute and parameters of my_model\n",
    "print('Attributes of user model (lorentzian + iso rot diff):')\n",
    "print('Name of attribute: {}'.format(sum_lorentz_isorot.attributeNames()))\n",
    "for i in range(sum_lorentz_isorot.nParams()):\n",
    "    print('Name of {}th parameter'.format(i), sum_lorentz_isorot.parameterName(i))"
   ]
  },
  {
   "cell_type": "code",
   "execution_count": null,
   "metadata": {
    "collapsed": true
   },
   "outputs": [],
   "source": [
    "# Check if user defined model is equal to the sum of related QENS models\n",
    "# Test parameters' values\n",
    "w0 = 0.001\n",
    "Q0 = 0.5\n",
    "scale0 = 20.\n",
    "centre0 = 0.0\n",
    "hwhm0 = 0.1\n",
    "radius0 = 0.98\n",
    "DR0 = 2.\n",
    "\n",
    "print('Number of attributes in model:', sum_lorentz_isorot.nAttributes())\n",
    "print('Number of parameters in model:', sum_lorentz_isorot.nParams())\n",
    "\n",
    "for i in range(sum_lorentz_isorot.nParams()):\n",
    "        print('Name of {0}th parameter: {1}'.format(i, sum_lorentz_isorot.parameterName(i)))\n",
    "        \n",
    "sum_lorentz_isorot.setAttributeValue('Q', Q0)\n",
    "\n",
    "print(\"Evaluation of my_model with test values:\", \n",
    "      sum_lorentz_isorot(w0, scale0, centre0, hwhm0, radius0, DR0))\n",
    "\n",
    "print(\"Evaluation of explicit sum of QENSmodels functions with test values:\", \n",
    "      QENSmodels.lorentzian(w0, scale0, centre0, hwhm0) \n",
    "      + QENSmodels.sqwIsotropicRotationalDiffusion(w0, Q0, scale0, centre0, radius0, DR0))"
   ]
  },
  {
   "cell_type": "code",
   "execution_count": null,
   "metadata": {
    "collapsed": true
   },
   "outputs": [],
   "source": [
    "# Check: plot of user defined model and of the sum of related QENS models\n",
    "w = np.linspace(-1,1,500)\n",
    "\n",
    "plt.plot(w, sum_lorentz_isorot(w, scale0, centre0, hwhm0, radius0, DR0), \n",
    "         'bo', \n",
    "         label='user defined model')\n",
    "\n",
    "plt.plot(w, QENSmodels.lorentzian(w, scale0, centre0, hwhm0) \n",
    "         + QENSmodels.sqwIsotropicRotationalDiffusion(w, Q0, scale0, centre0, radius0, DR0), \n",
    "         'r+',\n",
    "        label='sum of QENS models')\n",
    "\n",
    "plt.grid()\n",
    "plt.yscale('log')\n",
    "plt.xlabel('w')\n",
    "plt.title('Check: comparison of implementation of models')\n",
    "plt.legend()\n",
    "plt.show()"
   ]
  },
  {
   "cell_type": "markdown",
   "metadata": {},
   "source": [
    "#### Resolution"
   ]
  },
  {
   "cell_type": "code",
   "execution_count": null,
   "metadata": {
    "collapsed": true
   },
   "outputs": [],
   "source": [
    "res_func = Resolution(Workspace='res_5A', WorkspaceIndex=0)"
   ]
  },
  {
   "cell_type": "code",
   "execution_count": null,
   "metadata": {
    "collapsed": true
   },
   "outputs": [],
   "source": [
    "# Attribute and parameters of res_func\n",
    "print('Number of attributes of resolution function', res_func.nAttributes())\n",
    "print('Number of parameters of resolution function', res_func.nParams())\n",
    "print('Attributes of resolution function:')\n",
    "print(res_func.attributeNames())"
   ]
  },
  {
   "cell_type": "markdown",
   "metadata": {},
   "source": [
    "#### Convolution of resolution and user defined function"
   ]
  },
  {
   "cell_type": "code",
   "execution_count": null,
   "metadata": {
    "collapsed": true
   },
   "outputs": [],
   "source": [
    "def single_model(workspace_index):\n",
    "    \"\"\" Define convolution function of resolution and user defined model\n",
    "    with initial values of parameters\n",
    "    To be used to create global model of all Q-values\"\"\"\n",
    "    return Convolution(Resolution(Workspace='res_5A', WorkspaceIndex=workspace_index),\n",
    "                       MyModel(Q=q_5A[workspace_index],\n",
    "                               scale=20,\n",
    "                               centre=0,\n",
    "                               hwhm=0.1,\n",
    "                               radius=0.98,\n",
    "                               DR=2.),                  \n",
    "                       FixResolution=True, \n",
    "                       NumDeriv=True)"
   ]
  },
  {
   "cell_type": "code",
   "execution_count": null,
   "metadata": {
    "collapsed": true
   },
   "outputs": [],
   "source": [
    "# Check profile, names of attributes and parameters of convolution function for all Q-values\n",
    "w = np.linspace(-1, 1, 500)\n",
    "for indx, Q in enumerate(q_5A):\n",
    "   \n",
    "    single_model_Q = single_model(indx)    \n",
    "    plt.plot(w, single_model_Q(w), label='%.1f'%Q)\n",
    "    \n",
    "plt.yscale('log')\n",
    "plt.figlegend()\n",
    "plt.grid()\n",
    "plt.xlabel('w')\n",
    "plt.show()"
   ]
  },
  {
   "cell_type": "markdown",
   "metadata": {},
   "source": [
    "#### Create global model"
   ]
  },
  {
   "cell_type": "code",
   "execution_count": null,
   "metadata": {
    "collapsed": true
   },
   "outputs": [],
   "source": [
    "global_model = MultiDomainFunction(single_model(0), \n",
    "                                   single_model(1), \n",
    "                                   single_model(2),\n",
    "                                   single_model(3), \n",
    "                                   single_model(4), \n",
    "                                   single_model(5), \n",
    "                                   single_model(6),\n",
    "                                   single_model(7), \n",
    "                                   single_model(8),\n",
    "                                   single_model(9), \n",
    "                                   single_model(10), \n",
    "                                   single_model(11), \n",
    "                                   single_model(12), \n",
    "                                   single_model(13), \n",
    "                                   single_model(14), \n",
    "                                   single_model(15),\n",
    "                                   single_model(16), Global=['f1.DR', 'f1.radius', 'f1.hwhm'])\n",
    "\n",
    "# Print parameters of global model\n",
    "for i in range(global_model.nParams()):\n",
    "        print('Name of {0}th parameter: {1}'.format(i, global_model.parameterName(i)))"
   ]
  },
  {
   "cell_type": "code",
   "execution_count": null,
   "metadata": {
    "collapsed": true
   },
   "outputs": [],
   "source": [
    "# add constraint on the parameters\n",
    "# positive amplitudes\n",
    "global_model.constrain(\"f0.f1.scale > 0.\")\n",
    "global_model.constrain(\"f1.f1.scale > 0.\")\n",
    "global_model.constrain(\"f2.f1.scale > 0.\")\n",
    "global_model.constrain(\"f3.f1.scale > 0.\")\n",
    "global_model.constrain(\"f4.f1.scale > 0.\")\n",
    "global_model.constrain(\"f5.f1.scale > 0.\")\n",
    "global_model.constrain(\"f6.f1.scale > 0.\")\n",
    "global_model.constrain(\"f7.f1.scale > 0.\")\n",
    "global_model.constrain(\"f8.f1.scale > 0.\")\n",
    "global_model.constrain(\"f9.f1.scale > 0.\")\n",
    "global_model.constrain(\"f10.f1.scale > 0.\")\n",
    "global_model.constrain(\"f11.f1.scale > 0.\")\n",
    "global_model.constrain(\"f12.f1.scale > 0.\")\n",
    "global_model.constrain(\"f13.f1.scale > 0.\")\n",
    "global_model.constrain(\"f14.f1.scale > 0.\")\n",
    "global_model.constrain(\"f15.f1.scale > 0.\")\n",
    "global_model.constrain(\"f16.f1.scale > 0.\")\n",
    "\n",
    "# positive half-width half-maximum\n",
    "global_model.constrain(\"f0.f1.hwhm > 0.\")\n",
    "\n",
    "# positive DR\n",
    "global_model.constrain(\"f0.f1.DR > 0.\")"
   ]
  },
  {
   "cell_type": "code",
   "execution_count": null,
   "metadata": {
    "collapsed": true
   },
   "outputs": [],
   "source": [
    "# Now relate each domain(i.e. spectrum) to each single model\n",
    "domain_model = dict()\n",
    "for wi in range(len(q_5A)):\n",
    "    if wi == 0:\n",
    "        domain_model.update({\"InputWorkspace\": ws_5A.name(), \"WorkspaceIndex\": str(wi),\n",
    "            \"StartX\": \"-1\", \"EndX\": \"1\"})\n",
    "    else:\n",
    "        domain_model.update({\"InputWorkspace_\"+str(wi): ws_5A.name(), \"WorkspaceIndex_\"+str(wi): str(wi),\n",
    "            \"StartX_\"+str(wi): \"-1\", \"EndX_\"+str(wi): \"1\"})"
   ]
  },
  {
   "cell_type": "code",
   "execution_count": null,
   "metadata": {
    "collapsed": true
   },
   "outputs": [],
   "source": [
    "# Invoke the Fit algorithm using global_model and domain_model:\n",
    "output_workspace = \"glofit_\"+ws_5A.name()\n",
    "fit_output = Fit(Function=global_model, Output=output_workspace, CreateOutput=True, **domain_model)"
   ]
  },
  {
   "cell_type": "code",
   "execution_count": null,
   "metadata": {
    "collapsed": true
   },
   "outputs": [],
   "source": [
    "# print some results\n",
    "fitWorkspace = fit_output.OutputWorkspace\n",
    "paramTable = fit_output.OutputParameters\n",
    "\n",
    "# print results for refined parameters\n",
    "print('Table of refined parameters: Name Value Error')\n",
    "\n",
    "for i in range(paramTable.rowCount()):\n",
    "    print(paramTable.column(0)[i],\n",
    "          paramTable.column(1)[i],\n",
    "          paramTable.column(2)[i])"
   ]
  },
  {
   "cell_type": "code",
   "execution_count": null,
   "metadata": {
    "collapsed": true
   },
   "outputs": [],
   "source": [
    "# Plot results: one plot / spectrum showing experimental, fitted data and difference\n",
    "\n",
    "for indx, item in enumerate(fitWorkspace.getNames()):\n",
    "    x = mtd[item].readX(0)\n",
    "    plt.plot(x, mtd[item].readY(0), label=\"Data\")\n",
    "    plt.plot(x, mtd[item].readY(1), label=\"Model\")\n",
    "    plt.plot(x, mtd[item].readY(2), label=\"Error\")\n",
    "    plt.xlabel('Energy transfer (meV)')\n",
    "    plt.ylabel('S(Q,E)')\n",
    "    plt.legend()\n",
    "    plt.grid()\n",
    "    plt.title(item + r\", Q={:.1f} $\\AA$\".format(q_5A[indx]))\n",
    "    plt.show()"
   ]
  },
  {
   "cell_type": "code",
   "execution_count": null,
   "metadata": {
    "collapsed": true
   },
   "outputs": [],
   "source": []
  }
 ],
 "metadata": {
  "kernelspec": {
   "display_name": "Python 3",
   "language": "python",
   "name": "python3"
  },
  "language_info": {
   "codemirror_mode": {
    "name": "ipython",
    "version": 3
   },
   "file_extension": ".py",
   "mimetype": "text/x-python",
   "name": "python",
   "nbconvert_exporter": "python",
   "pygments_lexer": "ipython3",
   "version": "3.7.2"
  },
  "toc": {
   "base_numbering": 1,
   "nav_menu": {},
   "number_sections": true,
   "sideBar": true,
   "skip_h1_title": false,
   "title_cell": "Table of Contents",
   "title_sidebar": "Contents",
   "toc_cell": false,
   "toc_position": {},
   "toc_section_display": true,
   "toc_window_display": false
  },
  "varInspector": {
   "cols": {
    "lenName": 16,
    "lenType": 16,
    "lenVar": 40
   },
   "kernels_config": {
    "python": {
     "delete_cmd_postfix": "",
     "delete_cmd_prefix": "del ",
     "library": "var_list.py",
     "varRefreshCmd": "print(var_dic_list())"
    },
    "r": {
     "delete_cmd_postfix": ") ",
     "delete_cmd_prefix": "rm(",
     "library": "var_list.r",
     "varRefreshCmd": "cat(var_dic_list()) "
    }
   },
   "types_to_exclude": [
    "module",
    "function",
    "builtin_function_or_method",
    "instance",
    "_Feature"
   ],
   "window_display": false
  }
 },
 "nbformat": 4,
 "nbformat_minor": 1
}
