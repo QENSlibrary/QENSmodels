{
 "cells": [
  {
   "cell_type": "markdown",
   "metadata": {},
   "source": [
    "# Example: simple fit using Lorentzian with Flat background model and lmfit\n",
    "\n",
    "<a id='Table of Contents'></a><h1>Table of Contents</h1>\n",
    "- <a href='#introduction'>Introduction</a>\n",
    "- <a href='#imports'>Importing the required libraries</a>\n",
    "- <a href='#anim_plot'>Plot of the fitting model</a>\n",
    "- <a href='#ref_data'>Creating the reference data</a>\n",
    "- <a href='#fitting'>Setting and fitting </a>  \n",
    "- <a href='#plotting_results'>Plotting the results</a>  "
   ]
  },
  {
   "cell_type": "markdown",
   "metadata": {},
   "source": [
    "(<a href='#Table of Contents'>Top</a>)<a id='introduction'></a><h2>Introduction</h2>\n",
    "<div class=\"alert alert-block alert-info\">\n",
    "The objective of this notebook is to show how to combine the models of \n",
    "the <a href=\"https://github.com/QENSlibrary/QENSmodels\">QENSlibrary</a>. Here, we use the <b>Lorentzian</b> profile and a flat background, created from <b>background_polynomials</b>, to perform some fits.\n",
    "\n",
    "<a href=\"https://lmfit.github.io/lmfit-py/\">lmfit</a> is used for fitting.\n",
    "</div>"
   ]
  },
  {
   "cell_type": "markdown",
   "metadata": {},
   "source": [
    "(<a href='#Table of Contents'>Top</a>)<a id='imports'></a><h2>Importing the required librairies</h2>"
   ]
  },
  {
   "cell_type": "code",
   "execution_count": 1,
   "metadata": {},
   "outputs": [],
   "source": [
    "# install QENSmodels (if not already installed)\n",
    "import pkgutil\n",
    "import sys\n",
    "if not pkgutil.find_loader(\"QENSmodels\"):\n",
    "    !{sys.executable} -m pip install git+https://github.com/QENSlibrary/QENSmodels#egg=QENSmodels"
   ]
  },
  {
   "cell_type": "code",
   "execution_count": 2,
   "metadata": {},
   "outputs": [],
   "source": [
    "# import python modules for plotting, fitting\n",
    "from __future__ import print_function\n",
    "import numpy as np\n",
    "%matplotlib inline\n",
    "import matplotlib.pyplot as plt\n",
    "\n",
    "# for interactive plot\n",
    "import ipywidgets\n",
    "\n",
    "# import model from QENS library\n",
    "import QENSmodels"
   ]
  },
  {
   "cell_type": "code",
   "execution_count": 3,
   "metadata": {},
   "outputs": [],
   "source": [
    "# install lmfit (if not already installed)\n",
    "if not pkgutil.find_loader(\"lmfit\"):\n",
    "    !{sys.executable} -m pip install lmfit"
   ]
  },
  {
   "cell_type": "code",
   "execution_count": 4,
   "metadata": {},
   "outputs": [],
   "source": [
    "# required imports from lmfit\n",
    "from lmfit import Model, Parameters"
   ]
  },
  {
   "cell_type": "markdown",
   "metadata": {},
   "source": [
    "(<a href='#Table of Contents'>Top</a>)<a id='anim_plot'></a><h2>Plot of the fitting model</h2>\n",
    "\n",
    "The widget below shows the lorentzian peak shape function imported from QENSmodels where the function's parameters *Scale*, *Center* and *FWHM* can be varied."
   ]
  },
  {
   "cell_type": "code",
   "execution_count": 5,
   "metadata": {},
   "outputs": [
    {
     "data": {
      "application/vnd.jupyter.widget-view+json": {
       "model_id": "d38a6058cc7045af8c9ffca968b5a161",
       "version_major": 2,
       "version_minor": 0
      },
      "text/plain": [
       "interactive(children=(IntSlider(value=5, description='scale', max=10, min=1), IntSlider(value=5, description='…"
      ]
     },
     "metadata": {},
     "output_type": "display_data"
    },
    {
     "data": {
      "application/vnd.jupyter.widget-view+json": {
       "model_id": "c94969562c3b412b88f1df1d461d4405",
       "version_major": 2,
       "version_minor": 0
      },
      "text/plain": [
       "Button(description='Reset', style=ButtonStyle())"
      ]
     },
     "metadata": {},
     "output_type": "display_data"
    }
   ],
   "source": [
    "xx = np.linspace(-10,10,100)\n",
    "\n",
    "def interactive_plot(scale, center, hwhm, backgd):\n",
    "    plt.plot(xx, \n",
    "             QENSmodels.lorentzian(xx, float(scale), float(center), float(hwhm))\n",
    "            + QENSmodels.background_polynomials(xx,float(backgd))\n",
    "            )\n",
    "    plt.ylabel('lorentzian(x,{scale},{center},{hwhm})+{backgd}'.\n",
    "               format(scale=scale, center=center, hwhm=hwhm, backgd=backgd))\n",
    "    plt.xlabel('x')\n",
    "    plt.grid()\n",
    "    plt.show()\n",
    "\n",
    "interactive_plot = ipywidgets.interactive(interactive_plot, \n",
    "                                          scale=(1, 10), \n",
    "                                          center=(0, 10), \n",
    "                                          hwhm=(1, 5),\n",
    "                                         backgd=(-1,1))\n",
    "\n",
    "def reset_values(b):\n",
    "    \"\"\"Reset the interactive plots to inital values.\"\"\"\n",
    "    interactive_plot.children[0].value = 5\n",
    "    interactive_plot.children[1].value = 5\n",
    "    interactive_plot.children[2].value = 3\n",
    "    interactive_plot.children[2].value = 0\n",
    "\n",
    "reset_button = ipywidgets.Button(description = \"Reset\")\n",
    "reset_button.on_click(reset_values)\n",
    "\n",
    "output = interactive_plot.children[-1]\n",
    "output.layout.height = '270px'\n",
    "display(interactive_plot, reset_button)"
   ]
  },
  {
   "cell_type": "markdown",
   "metadata": {},
   "source": [
    "(<a href='#Table of Contents'>Top</a>)<a id='ref_data'></a><h2>Creating the reference data</h2>"
   ]
  },
  {
   "cell_type": "code",
   "execution_count": 6,
   "metadata": {},
   "outputs": [],
   "source": [
    "# Create array of reference data: noisy lorentzian with background\n",
    "xx = np.linspace(-5,5,100)\n",
    "lorentzian_noisy = QENSmodels.lorentzian(xx, 0.89, -0.025, 0.45)*(1+0.1*np.random.normal(0,1,100)) + 0.5+ 0.01*np.random.normal(0,1,100)"
   ]
  },
  {
   "cell_type": "markdown",
   "metadata": {},
   "source": [
    "(<a href='#Table of Contents'>Top</a>)<a id='fitting'></a><h2>Setting and fitting</h2>"
   ]
  },
  {
   "cell_type": "code",
   "execution_count": 7,
   "metadata": {},
   "outputs": [],
   "source": [
    "def flat_background(x, A0):\n",
    "    \"\"\" Define flat background ot be added to fitting model\"\"\"\n",
    "    return QENSmodels.background_polynomials(x, A0)"
   ]
  },
  {
   "cell_type": "code",
   "execution_count": 8,
   "metadata": {},
   "outputs": [
    {
     "name": "stdout",
     "output_type": "stream",
     "text": [
      "Names of parameters: ['hwhm', 'center', 'scale', 'A0']\n",
      "Independent variable(s): ['x']\n"
     ]
    },
    {
     "data": {
      "image/png": "[encoded data removed]",
      "text/plain": [
       "<Figure size 432x288 with 2 Axes>"
      ]
     },
     "metadata": {
      "needs_background": "light"
     },
     "output_type": "display_data"
    }
   ],
   "source": [
    "gmodel = Model(QENSmodels.lorentzian) + Model(flat_background)\n",
    "print('Names of parameters:', gmodel.param_names)\n",
    "print('Independent variable(s):', gmodel.independent_vars)\n",
    "\n",
    "initial_parameters_values = [1, 0.2, 0.5, 0.33]\n",
    "\n",
    "# Fit\n",
    "result = gmodel.fit(lorentzian_noisy, x=xx, \n",
    "                    scale=initial_parameters_values[0], \n",
    "                    center=initial_parameters_values[1],\n",
    "                    hwhm=initial_parameters_values[2],\n",
    "                    A0=initial_parameters_values[3])\n",
    "\n",
    "# Plots\n",
    "\n",
    "# to increase vertical spacing between plots\n",
    "plt.subplots_adjust(left=None, bottom=None, right=None, top=None,\n",
    "                wspace=None, hspace=0.75)\n",
    "\n",
    "# Initial model and reference data\n",
    "plt.subplot(2, 1, 1)\n",
    "plt.plot(xx, lorentzian_noisy, 'b-', label='reference data')\n",
    "plt.plot(xx, result.init_fit, 'k--', label='model with initial guesses')\n",
    "plt.xlabel('x')\n",
    "plt.grid()\n",
    "plt.title('Initial model and reference data')\n",
    "plt.legend(bbox_to_anchor=(1.05, 1), loc=2, borderaxespad=0.)\n",
    "\n",
    "# Fitting result and reference data\n",
    "plt.subplot(2, 1, 2)\n",
    "plt.plot(xx, lorentzian_noisy, 'b-', label='reference data')\n",
    "plt.plot(xx, result.best_fit, 'r.', label='fitting result')\n",
    "plt.title('Fit result and reference data')\n",
    "plt.legend(bbox_to_anchor=(1.05, 1), loc=2, borderaxespad=0.)\n",
    "plt.xlabel('x')\n",
    "plt.grid()\n",
    "\n",
    "plt.show()"
   ]
  },
  {
   "cell_type": "markdown",
   "metadata": {},
   "source": [
    "(<a href='#Table of Contents'>Top</a>)<a id='plotting_results'></a><h2>Plotting results </h2>\n",
    "using methods implemented in `lmfit`"
   ]
  },
  {
   "cell_type": "code",
   "execution_count": 9,
   "metadata": {},
   "outputs": [
    {
     "name": "stdout",
     "output_type": "stream",
     "text": [
      "Result of fit:\n",
      " [[Model]]\n",
      "    (Model(lorentzian) + Model(flat_background))\n",
      "[[Fit Statistics]]\n",
      "    # fitting method   = leastsq\n",
      "    # function evals   = 31\n",
      "    # data points      = 100\n",
      "    # variables        = 4\n",
      "    chi-square         = 0.03961857\n",
      "    reduced chi-square = 4.1269e-04\n",
      "    Akaike info crit   = -775.362758\n",
      "    Bayesian info crit = -764.942077\n",
      "[[Variables]]\n",
      "    hwhm:    0.43415052 +/- 0.01256243 (2.89%) (init = 0.5)\n",
      "    center: -7.7949e-04 +/- 0.00768207 (985.53%) (init = 0.2)\n",
      "    scale:   0.85232321 +/- 0.02000418 (2.35%) (init = 1)\n",
      "    A0:      0.50104495 +/- 0.00269394 (0.54%) (init = 0.33)\n",
      "[[Correlations]] (unreported correlations are < 0.100)\n",
      "    C(hwhm, scale) =  0.791\n",
      "    C(scale, A0)   = -0.656\n",
      "    C(hwhm, A0)    = -0.500\n",
      "\n"
     ]
    },
    {
     "data": {
      "text/plain": [
       "(<Figure size 432x432 with 2 Axes>, GridSpec(2, 1, height_ratios=[1, 4]))"
      ]
     },
     "execution_count": 9,
     "metadata": {},
     "output_type": "execute_result"
    },
    {
     "data": {
      "image/png": "[encoded data removed]",
      "text/plain": [
       "<Figure size 432x432 with 2 Axes>"
      ]
     },
     "metadata": {
      "needs_background": "light"
     },
     "output_type": "display_data"
    }
   ],
   "source": [
    "# display result\n",
    "print('Result of fit:\\n',result.fit_report())\n",
    "\n",
    "# plot\n",
    "result.plot()"
   ]
  },
  {
   "cell_type": "code",
   "execution_count": null,
   "metadata": {},
   "outputs": [],
   "source": []
  }
 ],
 "metadata": {
  "kernelspec": {
   "display_name": "Python 3",
   "language": "python",
   "name": "python3"
  },
  "language_info": {
   "codemirror_mode": {
    "name": "ipython",
    "version": 3
   },
   "file_extension": ".py",
   "mimetype": "text/x-python",
   "name": "python",
   "nbconvert_exporter": "python",
   "pygments_lexer": "ipython3",
   "version": "3.7.2"
  },
  "toc": {
   "base_numbering": 1,
   "nav_menu": {},
   "number_sections": true,
   "sideBar": true,
   "skip_h1_title": false,
   "title_cell": "Table of Contents",
   "title_sidebar": "Contents",
   "toc_cell": false,
   "toc_position": {},
   "toc_section_display": true,
   "toc_window_display": false
  }
 },
 "nbformat": 4,
 "nbformat_minor": 2
}
