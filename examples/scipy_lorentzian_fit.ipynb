{
 "cells": [
  {
   "cell_type": "markdown",
   "metadata": {
    "slideshow": {
     "slide_type": "slide"
    }
   },
   "source": [
    "# Example using Lorentzian model and scipy.optimize\n",
    "\n",
    "<a id='Table of Contents'></a><h1>Table of Contents</h1>\n",
    "\n",
    "- <a href='#introduction'>Introduction</a>  \n",
    "- <a href='#imports'>Importing libraries</a>\n",
    "- <a href='#anim_plot'>Plot of the fitting model</a>\n",
    "- <a href='#ref_data'>Creating reference data</a>\n",
    "- <a href='#fitting'>Setting and fitting</a>\n",
    "- <a href='#plot'>Plotting the results</a>  "
   ]
  },
  {
   "cell_type": "markdown",
   "metadata": {
    "slideshow": {
     "slide_type": "slide"
    }
   },
   "source": [
    "(<a href='#Table of Contents'>Top</a>)<a id='introduction'></a><h2>Introduction</h2>\n",
    "<div class=\"alert alert-block alert-info\">\n",
    "The objective of this notebook is to show how to use one of the models of \n",
    "the <a href=\"https://github.com/QENSlibrary/QENSmodels\">QENSlibrary</a>, <b>Lorentzian</b>, to perform some fits. \n",
    "\n",
    "<a href=\"https://docs.scipy.org/doc/scipy/reference/generated/scipy.optimize.curve_fit.html\">scipy.optimize.curve_fit</a> is used for fitting.\n",
    "</div>"
   ]
  },
  {
   "cell_type": "markdown",
   "metadata": {
    "slideshow": {
     "slide_type": "slide"
    }
   },
   "source": [
    "(<a href='#Table of Contents'>Top</a>)<a id='imports'></a><h2>Importing libraries</h2>"
   ]
  },
  {
   "cell_type": "code",
   "execution_count": null,
   "metadata": {
    "slideshow": {
     "slide_type": "subslide"
    }
   },
   "outputs": [],
   "source": [
    "# import python modules for plotting, fitting\n",
    "from __future__ import print_function\n",
    "import numpy as np\n",
    "%matplotlib inline\n",
    "import matplotlib.pyplot as plt\n",
    "from scipy.optimize import curve_fit\n",
    "\n",
    "# for interactive plot\n",
    "import ipywidgets\n",
    "\n",
    "# import model from QENS library\n",
    "import QENSmodels"
   ]
  },
  {
   "cell_type": "markdown",
   "metadata": {
    "slideshow": {
     "slide_type": "slide"
    }
   },
   "source": [
    "(<a href='#Table of Contents'>Top</a>)<a id='anim_plot'></a><h2>Plot of the fitting model</h2>\n",
    "\n",
    "The widget below shows the lorentzian peak shape function imported from QENSmodels where the function's parameters *Scale*, *Center* and *FWHM* can be varied."
   ]
  },
  {
   "cell_type": "code",
   "execution_count": null,
   "metadata": {
    "slideshow": {
     "slide_type": "subslide"
    }
   },
   "outputs": [],
   "source": [
    "xx = np.linspace(-10,10,100)\n",
    "\n",
    "def interactive_plot(scale, center, hwhm):\n",
    "    plt.plot(xx, QENSmodels.lorentzian(xx, float(scale), float(center), float(hwhm)))\n",
    "    plt.ylabel('lorentzian(x,{scale},{center},{hwhm})'.\n",
    "               format(scale=scale, center=center, hwhm=hwhm))\n",
    "    plt.xlabel('x')\n",
    "    plt.grid()\n",
    "    plt.show()\n",
    "\n",
    "interactive_plot = ipywidgets.interactive(interactive_plot, \n",
    "                                          scale=(1, 10), \n",
    "                                          center=(0, 10), \n",
    "                                          hwhm=(1, 5))\n",
    "\n",
    "def reset_values(b):\n",
    "    \"\"\"Reset the interactive plots to inital values.\"\"\"\n",
    "    interactive_plot.children[0].value = 5\n",
    "    interactive_plot.children[1].value = 5\n",
    "    interactive_plot.children[2].value = 3\n",
    "\n",
    "reset_button = ipywidgets.Button(description = \"Reset\")\n",
    "reset_button.on_click(reset_values)\n",
    "\n",
    "output = interactive_plot.children[-1]\n",
    "output.layout.height = '270px'\n",
    "display(interactive_plot, reset_button)"
   ]
  },
  {
   "cell_type": "markdown",
   "metadata": {
    "slideshow": {
     "slide_type": "slide"
    }
   },
   "source": [
    "(<a href='#Table of Contents'>Top</a>)<a id='ref_data'></a><h2>Creating reference data</h2>\n",
    "\n",
    "**Input:** the reference data for this simple example correspond to a Lorentzian with added noise.\n",
    "\n",
    "The fit is performed using `scipy.optimize.curve_fit`. <br> The example is based on implementations from https://docs.scipy.org/doc/scipy/reference/generated/scipy.optimize.curve_fit.html"
   ]
  },
  {
   "cell_type": "code",
   "execution_count": null,
   "metadata": {
    "slideshow": {
     "slide_type": "subslide"
    }
   },
   "outputs": [],
   "source": [
    "# Creation of reference data\n",
    "lorentzian_noisy = QENSmodels.lorentzian(xx, 0.89, -0.025, 0.45)*(1. + 0.1*np.random.normal(0,1,100)) + 0.01*np.random.normal(0,1,100)\n",
    "\n",
    "plt.plot(xx, lorentzian_noisy, label='reference data')\n",
    "plt.xlabel('x')\n",
    "plt.grid()\n",
    "plt.legend()\n",
    "plt.show()"
   ]
  },
  {
   "cell_type": "markdown",
   "metadata": {
    "slideshow": {
     "slide_type": "slide"
    }
   },
   "source": [
    "(<a href='#Table of Contents'>Top</a>)<a id='fitting'></a><h2>Setting and fitting</h2>"
   ]
  },
  {
   "cell_type": "code",
   "execution_count": null,
   "metadata": {
    "slideshow": {
     "slide_type": "subslide"
    }
   },
   "outputs": [],
   "source": [
    "# From https://docs.scipy.org/doc/scipy/reference/generated/scipy.optimize.curve_fit.html\n",
    "# perform fit with initial guesses scale=1, center=0.2 HWHM=0.5\n",
    "initial_parameters_values = [1, 0.2, 0.5]\n",
    "\n",
    "plt.plot(xx, lorentzian_noisy, 'b-', label='reference data')\n",
    "plt.plot(xx, QENSmodels.lorentzian(xx, *initial_parameters_values), 'r-', label='model with initial guesses')\n",
    "plt.xlabel('x')\n",
    "plt.grid()\n",
    "plt.legend(bbox_to_anchor=(1.05, 1), loc=2, borderaxespad=0.)\n",
    "plt.show()\n",
    "\n",
    "popt, pcov = curve_fit(QENSmodels.lorentzian, xx, lorentzian_noisy, p0=initial_parameters_values)"
   ]
  },
  {
   "cell_type": "markdown",
   "metadata": {
    "slideshow": {
     "slide_type": "slide"
    }
   },
   "source": [
    "(<a href='#Table of Contents'>Top</a>)<a id='plot'></a><h2>Plotting the results</h2>"
   ]
  },
  {
   "cell_type": "code",
   "execution_count": null,
   "metadata": {
    "scrolled": true,
    "slideshow": {
     "slide_type": "subslide"
    }
   },
   "outputs": [],
   "source": [
    "# Calculation of the errors on the refined parameters:\n",
    "perr = np.sqrt(np.diag(pcov))\n",
    "\n",
    "print('Values of refined parameters:')\n",
    "print('scale:', popt[0],'+/-', perr[0])\n",
    "print('center :', popt[1],'+/-', perr[1])\n",
    "print('HWHM', popt[2],'+/-', perr[2])\n",
    "\n",
    "# Comparison of reference data with fitting result\n",
    "plt.plot(xx, lorentzian_noisy, 'b-', label='reference data')\n",
    "plt.plot(xx, QENSmodels.lorentzian(xx, *popt), 'g--', label='fit: %5.3f, %5.3f, %5.3f' % tuple(popt))\n",
    "plt.legend()\n",
    "plt.xlabel('x')\n",
    "plt.grid()\n",
    "plt.show()"
   ]
  },
  {
   "cell_type": "code",
   "execution_count": null,
   "metadata": {},
   "outputs": [],
   "source": [
    " "
   ]
  }
 ],
 "metadata": {
  "kernelspec": {
   "display_name": "Python 3",
   "language": "python",
   "name": "python3"
  },
  "language_info": {
   "codemirror_mode": {
    "name": "ipython",
    "version": 3
   },
   "file_extension": ".py",
   "mimetype": "text/x-python",
   "name": "python",
   "nbconvert_exporter": "python",
   "pygments_lexer": "ipython3",
   "version": "3.7.1"
  },
  "livereveal": {
   "scroll": true
  },
  "toc": {
   "base_numbering": 1,
   "nav_menu": {},
   "number_sections": true,
   "sideBar": true,
   "skip_h1_title": false,
   "title_cell": "Table of Contents",
   "title_sidebar": "Contents",
   "toc_cell": false,
   "toc_position": {},
   "toc_section_display": true,
   "toc_window_display": false
  }
 },
 "nbformat": 4,
 "nbformat_minor": 2
}
